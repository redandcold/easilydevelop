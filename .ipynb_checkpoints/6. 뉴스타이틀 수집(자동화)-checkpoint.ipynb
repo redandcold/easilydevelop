{
 "cells": [
  {
   "cell_type": "code",
   "execution_count": 1,
   "id": "1e8309ec",
   "metadata": {},
   "outputs": [],
   "source": [
    "from selenium import webdriver as wb\n",
    "from selenium.webdriver.common.by import By\n",
    "from selenium.webdriver.common.keys import Keys\n",
    "import time # 사람처럼 보이려면 중간에 지연필요"
   ]
  },
  {
   "cell_type": "code",
   "execution_count": 12,
   "id": "71cba540",
   "metadata": {},
   "outputs": [],
   "source": [
    "driver=wb.Chrome()"
   ]
  },
  {
   "cell_type": "code",
   "execution_count": 15,
   "id": "ef09fb73",
   "metadata": {},
   "outputs": [],
   "source": [
    "driver.get(\"http://www.naver.com\")"
   ]
  },
  {
   "cell_type": "code",
   "execution_count": null,
   "id": "a6f28fc2",
   "metadata": {},
   "outputs": [],
   "source": [
    "# 검색창에 검색어를 입력\n",
    "# 검색창에 엔터를 입력"
   ]
  },
  {
   "cell_type": "code",
   "execution_count": 24,
   "id": "c2491952",
   "metadata": {},
   "outputs": [],
   "source": [
    "search=driver.find_element(By.ID,\"query\")\n",
    "#search=driver.find_element(By.CSS_SELECTOR,\"#query\")"
   ]
  },
  {
   "cell_type": "code",
   "execution_count": null,
   "id": "db235557",
   "metadata": {},
   "outputs": [],
   "source": [
    "#driver.implicitly_wait(10)\n",
    "#인터넷망 겹쳐서 인터넷 느려지면 time_sleep이 낫다.\n",
    "#컴퓨터 스스로 판단해서 코드 다 가져왔다면 기다리다가 시작"
   ]
  },
  {
   "cell_type": "code",
   "execution_count": 25,
   "id": "e307c904",
   "metadata": {},
   "outputs": [],
   "source": [
    "search.send_keys(\"롤드컵\")"
   ]
  },
  {
   "cell_type": "code",
   "execution_count": 26,
   "id": "d0e1eba1",
   "metadata": {},
   "outputs": [],
   "source": [
    "search.send_keys(Keys.ENTER)"
   ]
  },
  {
   "cell_type": "code",
   "execution_count": 27,
   "id": "24bb6252",
   "metadata": {},
   "outputs": [],
   "source": [
    "# 뉴스 탭을 클릭 #copy selector는 하나만 가져온다\n",
    "tab=driver.find_element(By.CSS_SELECTOR,\"#lnb > div.lnb_group > div > ul > li:nth-child(8) > a\")\n",
    "tab.click()\n"
   ]
  },
  {
   "cell_type": "code",
   "execution_count": 29,
   "id": "d9d56a3d",
   "metadata": {},
   "outputs": [],
   "source": [
    "# 뉴스 타이틀을 수집\n",
    "news=driver.find_elements(By.CSS_SELECTOR, \"li > div > div > a\")\n",
    "#복사해온 온 선택지를 보면 클래스값 대신 li\n",
    "#sp_nws2 > div > div > a"
   ]
  },
  {
   "cell_type": "code",
   "execution_count": 31,
   "id": "c2267aa1",
   "metadata": {},
   "outputs": [],
   "source": [
    "#다음 버튼 클릭\n",
    "btn=driver.find_element(By.CSS_SELECTOR, \"a.btn_next\")\n",
    "btn.click()"
   ]
  },
  {
   "cell_type": "code",
   "execution_count": 34,
   "id": "d908d2cc",
   "metadata": {},
   "outputs": [],
   "source": [
    "#반복문 작성\n",
    "news_list=[]\n",
    "for i in range(10):\n",
    "    news=driver.find_elements(By.CSS_SELECTOR, \"li > div.news_wrap.api_ani_send > div > a\")\n",
    "    \n",
    "    for j in news:\n",
    "        news_list.append(j.text)\n",
    "    btn=driver.find_element(By.CSS_SELECTOR, \"a.btn_next\")\n",
    "    btn.click()\n",
    "    # time.sleep(\"초\") =몇초동안 코드를 멈춰라!\n",
    "    # 클라이언트가 서버에게 요청을 보냈을 때 사용\n",
    "    # 응답받는 과정에 시간이 필요하기 때문에\n",
    "    # 이미 넘겨받은 데이터(html)에서 텍스트, 내용을 추출할 때는 필요하지 않다.\n",
    "    \n",
    "    time.sleep(1)#사용자가 서버에게 요청을 준 후"
   ]
  },
  {
   "cell_type": "code",
   "execution_count": 35,
   "id": "9060492d",
   "metadata": {},
   "outputs": [
    {
     "data": {
      "text/plain": [
       "['KT ‘파죽지세’ 5년만에 정규리그 1위···롤드컵 향해 GO!',\n",
       " '‘딜라이트’ 유환중 “예전엔 ‘롤드컵 갈 수 있을까’란 걱정도 했죠” [LC...',\n",
       " '[LCK 미디어데이] KT 비디디 \"LCK 결승-롤드컵 진출할 수 있도록 할 것\"',\n",
       " '롤드컵 선발전 나서는 \\'바이퍼\\', \"꼭 월즈 진출하겠다\"',\n",
       " '숙명의 \\'통신사 더비\\' 앞둔 T1 \"페이커 이상무\" vs KT \"간절함이 무기\"',\n",
       " '[e스포츠人] 젠지와 결승전 앞둔 T1 \"지피지기 백전백승...3대0이나 3대1로 이...',\n",
       " \"라이엇게임즈, 오는 4일부터 인터파크서 '2023 롤드컵' 토너먼트 티켓 예매 시...\",\n",
       " '롤드컵 선발전 내려간 한화생명, 상대가 만만치 않다',\n",
       " '롤드컵 진출보다 결승 직행이 더 중요했다',\n",
       " '2023 LCK 서머 파이널 미디어데이, 앞서 기다리는 젠지, 한번 더 붙는 KT와 T...',\n",
       " \"라이엇, 8월 4일부터 '2023 롤드컵' 토너먼트 티켓 예매 실시\",\n",
       " '팬과 즐기는 결승 전야제 ‘LCK 팬 페스타’ 열린다',\n",
       " '디플러스 기아, 디알엑스와 롤드컵 선발전 패자조서 맞대결',\n",
       " \"양대인 감독의 WBG, 롤드컵 진출…'더샤이'는 4년 만에 월즈 복귀\",\n",
       " \"[LCK 플레이오프] 젠지, 라이벌 T1 격파 ... 서머 결승·롤드컵 진출 '겹경사...\",\n",
       " '[LCK] 아쉬운 완패 DRX “더 배울 부분 많아…롤드컵 열심히 준비할 것”',\n",
       " '[LCK] ‘광풍(狂風)’ 기대했지만…광동 PO 좌절, 롤드컵 선발전 진출 실패',\n",
       " 'LNG, EDG 꺾고 3년 만에 롤드컵 진출...3번 시드',\n",
       " '팀 리퀴드, 최소 롤드컵 4시드 결정전 티켓 확보',\n",
       " '젠지, LCK 4연속 결승-롤드컵 진출 확정(종합)',\n",
       " \"T1과 kt 롤스터 '2023 LCK' 서머 결승진출전 앞두고 미디어데이 통해 최고의 ...\",\n",
       " \"'2023 롤드컵' 결승전 티켓, 일반 예매 4일 시작\",\n",
       " '[LPL 돋보기] \"\\'야가오\\'! 우리가 널 롤드컵으로 데리고 갈게\"',\n",
       " 'LPL-LCS서 롤드컵 진출팀 나왔다…LPL은 8일에 선발전 마무리 예정',\n",
       " '‘올해 다전제 승률 0%’ 디플 기아, 롤드컵 진출도 ‘비상’ [LCK]',\n",
       " \"'LCS 최대 이변' NRG, 창단 첫 롤드컵 진출...'이그나'는 3년 만\",\n",
       " '롤드컵 결승전 티켓, 오는 4일부터 일반 예매',\n",
       " '[오!쎈 현장] \\'바이퍼\\' 박도현의 다짐, \"선발전 잘 준비해 꼭 월즈 가겠다\"',\n",
       " '젠지 “T1 결승서 다시 만나게 될 것…방심 않겠다” [LCK]',\n",
       " \"징동, LPL 대회 3연패 달성...롤드컵 1번 시드-'룰러' 두 번째 우승(종합)\",\n",
       " '[오!쎈 현장] \\'바이퍼\\' 박도현의 다짐, \"선발전 잘 준비해 꼭 월즈 가겠다\"',\n",
       " \"'고척스카이돔 개최' 롤드컵 결승전 예매, 4일 시작\",\n",
       " '젠지 “T1 결승서 다시 만나게 될 것…방심 않겠다” [LCK]',\n",
       " \"징동, LPL 대회 3연패 달성...롤드컵 1번 시드-'룰러' 두 번째 우승(종합)\",\n",
       " 'DK 잡은 T1, 또 한번 ‘도장 깨기’ 노린다',\n",
       " \"[LPL] '우지' 아쉽게 롤드컵 문턱 탈락... 4번 시드는 웨이보 게이밍\",\n",
       " '스프링 이어 서머도 4위…한화생명 “선발전서 달라진 모습 보여주겠다” [LC...',\n",
       " '[LCK 결승 미디어데이] 젠지-T1-kt, \"경기력 상호 박빙 ... 준비한 것 모두 쏟...',\n",
       " '[오!쎈 현장] ‘4연속 결승행, 3연속 우승 도전’…’스코어’ 고동빈, “감독...',\n",
       " '강함 입증한 ‘피넛’ 한왕호, “5세트 승리, 값진 경험”',\n",
       " '강함 입증한 ‘피넛’ 한왕호, “5세트 승리, 값진 경험”',\n",
       " '[LCK 서머] HLE 최인규 감독 \"모든 부분에서 KT보다 부족했다\"',\n",
       " '[LCK] 젠지 ‘도란’ 최현준 “부모님 앞에서 국제 대회 활약 보이고파”',\n",
       " '[LCK] LSB 유상욱 감독 \"서머 롤드컵 진출 목표 이루지 못해 아쉽다\"',\n",
       " '젠지 선수단 \"LCK \\'쓰리핏\\' 기뻐…롤드컵서 좋은 성적 거둘 것\"',\n",
       " 'C9, LCS 처음으로 롤드컵 티켓 획득',\n",
       " 'T1, kt롤스터를 꺾고 승자전으로!',\n",
       " '[LCK PO] \"요네? 감독님이 시켜서 했다\", \"구조 바꾸는데 특화된 픽\"',\n",
       " \"PO 막차 탄 DRX, 올해도 '미라클 런' 선보일까\",\n",
       " '[LPL 돋보기] LNG, 창단 첫 결승...롤드컵 진출 아직 아니다',\n",
       " '[LPL 돋보기] 징동과 BLG 승자가 먼저 롤드컵 간다',\n",
       " '젠지, LoL국내리그 3연속 제패…LCK서머 결승서 T1 완파',\n",
       " '[LPL] JDG, BLG 꺾고 결승행…가장 먼저 롤드컵 진출 확정',\n",
       " 'LCK 서머 시즌 플레이오프, 어떻게 진행될까',\n",
       " '[LCK] PO 탈락 DK \"중후반 운영-오브젝트 결정력 아쉬워, 보완해 롤드컵 꼭 가...',\n",
       " '젠지, LoL 국내대회 3연패…LCK 서머 결승서 T1 완파(종합)',\n",
       " '롤드컵 결승전 티켓, 4일부터 일반 예매',\n",
       " '\"빈틈이 없다\" 젠지, T1 압살하고 서머 우승…3연속 왕좌에',\n",
       " '5년만의 LCK 정규리그 1위 오른 KT, 역시 5년만의 롤드컵 진출 확정할까?',\n",
       " '[LCK] 결승 선착 젠지 “T1 또 만날 것 같아… 도전하는 마음으로 준비할 것”',\n",
       " '[LCK] 결승 선착 젠지 “T1 또 만날 것 같아… 도전하는 마음으로 준비할 것”',\n",
       " '롤드컵에 모든 것을 걸 생각이다',\n",
       " '[LCK 서머] 후반 뒷심 부족을 패인으로 뽑은 DK',\n",
       " '\"페이커 보러오세요\"…라이엇게임즈-한국관광공사, \\'롤드컵\\' 통해 韓 관광 활...',\n",
       " '[LCK] PO 2라운드 직행 확정 KT “기쁘지만 롤드컵 진출이 중요해”',\n",
       " \"젠지에 또 무너진 T1…3연속 '무관' 어쩌나\",\n",
       " '많은 것 걸린 T1전, \\'에이밍\\' 김하람 \"전혀 다른 양상 나올 것\" [인터뷰]',\n",
       " '한화생명e스포츠 VS DRX, 2라운드로 올라갈 팀은?',\n",
       " \"[LPL] 스카웃-타잔, LNG 사상 첫 '롤드컵 본선 직행' 이끌다\",\n",
       " \"[LPL] '징동 형님들 고맙습니다' BLG, 2시드로 롤드컵 직행\",\n",
       " \"T1, '통신사 라이벌' KT 또다시 격파…내일 젠지와 결승전(종합)\",\n",
       " '‘커즈’ 문우찬, “롤드컵에서 내 실력 증명하고 싶다” [LCK]',\n",
       " '[기록으로 본 LPL] 2023 LPL 서머, 최고 킬-데스-어시스트는 누가?',\n",
       " \"[LPL 돋보기] 항저우 AG 3명 포함...BLG, 롤드컵 진출 '눈앞'\",\n",
       " \"[LPL 돋보기] '루키'-'재키러브'는 롤드컵에 갈 수 있을까?\",\n",
       " \"[LPL] 스카웃-타잔, LNG 사상 첫 롤드컵 '본선 직행' 이끌까?\",\n",
       " '[LCK 서머] \\'페이커\\' \"자세 바꿔 연습중... 경기력 끌어올리는 게 급선무\"',\n",
       " '[LPL] 서머 결승 FMVP 나이트 \"올해 롤드컵은 진짜로 다를 것\"',\n",
       " '[LPL 돋보기] 롤드컵 진출 팀 윤곽 드러난다... 17팀→6팀',\n",
       " '[LCK] \\'1위 등극\\' KT \"잠깐의 1위보다 롤드컵 진출이 더 중요하다\"',\n",
       " '오브젝트 싸움마다 내가 잘하지 못한 것 같다',\n",
       " '\"순위 의미 없어...선수들과 함께 롤드컵 가는 게 목표\"',\n",
       " '슈퍼 팀 플라이퀘스트, LCS 챔피언십-롤드컵 진출 좌절',\n",
       " '선발전 향한 DK... 최천주 감독 \"부족한 뒷심 보완해야\" [인터뷰]',\n",
       " '휴식 이후 부족한 부분 재정비해 돌아오겠다',\n",
       " 'e스포츠도, 프로야구도 ‘서머의 KT’ 넘어 가을을 향한다[SS포커스]',\n",
       " \"'페이커'가 돌아온다?...복귀 시나리오 써졌다\",\n",
       " '[LCK] \"KT는 우승 가즈아\" 유칼의 바람, 이뤄질까?',\n",
       " \"이상혁 복귀로 '완전체'가 된 T1, 플레이오프에서의 성적은?\",\n",
       " \"한화생명, 친정팀 DRX에 비수 꽂은 '킹겐'과 '제카' 앞세워 PO 2라운드 진출\",\n",
       " '[LCK 프리뷰] 3연속 우승에 도전 젠지, 파이널 상대는 T1-KT 누구',\n",
       " '젠지 이스포츠 \"승리의 기쁨은 조금만, 국제전 집중하겠다\", 2023 LCK 서머 결...',\n",
       " \"3번 연속 우승 도전 젠지 VS 11번째 우승 도전 T1, '2023 LCK' 서머 시즌 결승...\",\n",
       " '6승 2패 vs 1승 6패…’페이커의 빈자리’ 뼈아픈 T1 [이주현의 로그인 e스포...',\n",
       " 'KT 롤스터의 ‘핫 서머’···반전의 동력은?',\n",
       " '[LCK] \"스틸에 스틸\"...역대급 5세트 승리한 T1, 결승 진출',\n",
       " '[LCK] 결승서 또 젠지 만나는 T1 \"지피지기면 백전백승이라는 각오로!\"',\n",
       " 'T1 상대 전략적 우위 점한 젠지, 고동빈 감독 \"앞선 경기서 승리 패턴 파악\" ...',\n",
       " '구마유시 \"에이밍은 한체원…기계처럼 잘해\"',\n",
       " 'G2, LEC 서머 우승...1시드로 시즌 파이널행']"
      ]
     },
     "execution_count": 35,
     "metadata": {},
     "output_type": "execute_result"
    }
   ],
   "source": [
    "news_list"
   ]
  },
  {
   "cell_type": "code",
   "execution_count": null,
   "id": "cc645b5f",
   "metadata": {},
   "outputs": [],
   "source": []
  }
 ],
 "metadata": {
  "kernelspec": {
   "display_name": "Python 3 (ipykernel)",
   "language": "python",
   "name": "python3"
  },
  "language_info": {
   "codemirror_mode": {
    "name": "ipython",
    "version": 3
   },
   "file_extension": ".py",
   "mimetype": "text/x-python",
   "name": "python",
   "nbconvert_exporter": "python",
   "pygments_lexer": "ipython3",
   "version": "3.11.3"
  }
 },
 "nbformat": 4,
 "nbformat_minor": 5
}
