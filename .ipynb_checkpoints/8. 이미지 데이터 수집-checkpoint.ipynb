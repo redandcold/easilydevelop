{
 "cells": [
  {
   "cell_type": "code",
   "execution_count": 1,
   "id": "20dbdfd5",
   "metadata": {},
   "outputs": [],
   "source": [
    "from selenium import webdriver as wb\n",
    "from selenium.webdriver.common.by import By\n",
    "from selenium.webdriver.common.keys import Keys\n",
    "import time\n",
    "# 파일 시스템을 위한 라이브러리(삭제, 생성)\n",
    "import os\n",
    "# 이미지의 경로를 실제 파일로 저장\n",
    "from urllib.request import urlretrieve"
   ]
  },
  {
   "cell_type": "code",
   "execution_count": 2,
   "id": "e6640de5",
   "metadata": {},
   "outputs": [],
   "source": [
    "# 폴더 생성\n",
    "# 바탕화면에 이미지라는 폴더가 없다면 바탕화면에 이미지라는 폴더를 만들어줘!\n",
    "if not os.path.isdir(\"C:/Users/smhrd/Desktop/이미지\"):\n",
    "    os.mkdir(\"C:/Users/smhrd/Desktop/이미지\")#rmdir-폴더 삭제"
   ]
  },
  {
   "cell_type": "code",
   "execution_count": 3,
   "id": "e601edf3",
   "metadata": {},
   "outputs": [],
   "source": [
    "driver=wb.Chrome()\n",
    "driver.get(\"https://search.naver.com/search.naver?where=image&sm=tab_jum&query=%ED%91%B8\")"
   ]
  },
  {
   "cell_type": "code",
   "execution_count": null,
   "id": "dc088987",
   "metadata": {},
   "outputs": [],
   "source": [
    "# 스크롤을 통해서 전체 이미지를 로딩\n",
    "body= driver.find_element(By.CSS_SELECTOR, \"body\")\n",
    "for i in range(10):# 정확히 몇번 내릴지 알 수 없어서 임의의 숫자(자바스크립트에선 가능)\n",
    "    body.send_keys(Keys.END)"
   ]
  },
  {
   "cell_type": "code",
   "execution_count": 15,
   "id": "72362bd8",
   "metadata": {},
   "outputs": [
    {
     "data": {
      "text/plain": [
       "48"
      ]
     },
     "execution_count": 15,
     "metadata": {},
     "output_type": "execute_result"
    }
   ],
   "source": [
    "# 이미지 데이터 수집\n",
    "# 이미지 커서, 두번 검사\n",
    "img=driver.find_elements(By.CSS_SELECTOR, \"._image._listImage\")# 공백은 항상 .으로 이어라\n",
    "len(img)"
   ]
  },
  {
   "cell_type": "code",
   "execution_count": 16,
   "id": "e52d7708",
   "metadata": {},
   "outputs": [
    {
     "data": {
      "text/plain": [
       "'https://search.pstatic.net/common/?src=http%3A%2F%2Fblogfiles.naver.net%2FMjAyMzAzMThfODEg%2FMDAxNjc5MTE5MTQ4MjYw.9hJLX-wTeMjjTAehb5rLom3iV_0oXbhXC-ME-R7rvP8g.tavrebTgHKW_H6GeJQpmJzn_4Onm4nysonXVe_6C-3Ug.PNG.atelierrose%2F063.PNG&type=a340'"
      ]
     },
     "execution_count": 16,
     "metadata": {},
     "output_type": "execute_result"
    }
   ],
   "source": [
    "# 이미지 태그에서 src 속성만 추출\n",
    "# 태그에서 속성을 꺼내올 때는 get_attribute(\"속성\")\n",
    "img[0].get_attribute(\"src\")"
   ]
  },
  {
   "cell_type": "code",
   "execution_count": 17,
   "id": "93a06255",
   "metadata": {},
   "outputs": [],
   "source": [
    "src=[]\n",
    "for i in range(len(img)):\n",
    "    src.append(img[i].get_attribute(\"src\"))"
   ]
  },
  {
   "cell_type": "code",
   "execution_count": 18,
   "id": "5f28d3e8",
   "metadata": {},
   "outputs": [
    {
     "data": {
      "text/plain": [
       "['https://search.pstatic.net/common/?src=http%3A%2F%2Fblogfiles.naver.net%2FMjAyMzAzMThfODEg%2FMDAxNjc5MTE5MTQ4MjYw.9hJLX-wTeMjjTAehb5rLom3iV_0oXbhXC-ME-R7rvP8g.tavrebTgHKW_H6GeJQpmJzn_4Onm4nysonXVe_6C-3Ug.PNG.atelierrose%2F063.PNG&type=a340',\n",
       " 'https://search.pstatic.net/common/?src=http%3A%2F%2Fshop1.phinf.naver.net%2F20210908_56%2F16310903055810j8Yw_JPEG%2F38555001684437837_695039330.jpg&type=a340',\n",
       " 'https://search.pstatic.net/common/?src=http%3A%2F%2Fblogfiles.naver.net%2FMjAyMTAzMjJfMjEz%2FMDAxNjE2MzQ3Mzk2NDEz.j1LBCYRms99RkPrQlvk351Rg-EJRIzmU1LvSMa3cm48g.qbzqXBqFCBM6oZiCmTApKLV5GCW4uSa564V5ODalYgQg.JPEG.oasisplay29%2FIMG_4172.jpg&type=a340',\n",
       " 'https://search.pstatic.net/common/?src=http%3A%2F%2Fblogfiles.naver.net%2FMjAyMjA4MjZfMTc5%2FMDAxNjYxNTA2MDk3NTUz.9ucnCEXDskDPtxI_TThM3PV1em2DrknwNV1bQgvyxQgg.2c3W7q6XVb5s6zfgpIpOJiOMLeEVvwIRMhs3ew-aL1Mg.PNG.yeskim83%2F0.png&type=a340',\n",
       " 'data:image/gif;base64,R0lGODlhAQABAIAAAAAAAP///yH5BAEAAAAALAAAAAABAAEAAAIBRAA7',\n",
       " 'data:image/gif;base64,R0lGODlhAQABAIAAAAAAAP///yH5BAEAAAAALAAAAAABAAEAAAIBRAA7',\n",
       " 'https://search.pstatic.net/common/?src=http%3A%2F%2Fblogfiles.naver.net%2FMjAxODAxMjJfMTAy%2FMDAxNTE2NjA3NjQyNjkz.QjJ0fDVsl7xrbe6Sfyo_otCFJLcDGEoPoQUbnGmVhKUg.r_DqSjYF4-VsCtrcgQp0fhrp0Ey6QdbmSJuqsRz5S00g.JPEG.quimlump%2FKakaoTalk_20180108_233450094.jpg&type=a340',\n",
       " 'https://search.pstatic.net/common/?src=http%3A%2F%2Fblogfiles.naver.net%2FMjAyMzAyMjJfMjk1%2FMDAxNjc3MDQzNjkzNTIz.iLEaVhiDPRuxEZ2T26A__lMa4NTA8GL7Q2UD5Ovv7pMg.DzdcHaRKP7tGwGw82teiGMsJojhEc5Jf4AgQ1RC43Xog.JPEG.akkcju%2F3.jpg&type=a340',\n",
       " 'https://search.pstatic.net/common/?src=http%3A%2F%2Fshop1.phinf.naver.net%2F20230426_243%2F1682460773214Q6WwQ_JPEG%2F29608218033668557_1765347386.jpg&type=a340',\n",
       " 'https://search.pstatic.net/common/?src=http%3A%2F%2Fblogfiles.naver.net%2FMjAyMzAzMTlfMTM1%2FMDAxNjc5MjMyNjcwMTI1.Udh6wrmQtSb43JQQ5hsADLPI3NORprqJ1PUvh_mmNCog.gaEOsjEzOv_tX0Oz9JuSOAgAaeA76W8fpISn-OPkkVcg.JPEG.rldnjsrla1995%2Foutput_1240751865.jpg&type=a340',\n",
       " 'https://search.pstatic.net/common/?src=http%3A%2F%2Fblogfiles.naver.net%2FMjAyMjA4MThfNDEg%2FMDAxNjYwODIxMjcyMDAy.DDi3n_-s46rzil_ACDbBuzjmGBYnm_LYI5mtf9K5F54g.XvmXUNwPKAZyrb_shvjBr57lEx9lXDKRKo3o8g2YwbYg.PNG.sans89%2F%25B9%25AB%25C1%25A6399%25A3%25DF20220818201134.png&type=a340',\n",
       " 'https://search.pstatic.net/common/?src=http%3A%2F%2Fblogfiles.naver.net%2FMjAyMzAyMTVfNjQg%2FMDAxNjc2NDY0NTY5NDEy.H2f3sABje8TM404zuP7zoKal-P26LoBxxb13cxbsLs4g.Hs22jo5wQpYKwMfQxufKVRkFC9uE5HyQkS1jM7JkblUg.JPEG.lub_with_reading%2FIMG_1913.jpg&type=a340',\n",
       " 'https://search.pstatic.net/sunny/?src=https%3A%2F%2Fi.pinimg.com%2Foriginals%2F55%2Feb%2F38%2F55eb38e877fa10873e7e483f51f3236e.jpg&type=a340',\n",
       " 'https://search.pstatic.net/common/?src=http%3A%2F%2Fblogfiles.naver.net%2FMjAyMzA0MjBfMjA1%2FMDAxNjgxOTM1NTQ1NDAz.XhPZEm0A8obqY49jmkRaRDB6rHujMgYpXVezFM1mhHYg.j1KfLOUHA6txLYwEOBcghX50J7I2FIilPY49vt1XIVgg.PNG.nyancat59%2F%25C1%25A6%25B8%25F1%25C0%25BB-%25C0%25D4%25B7%25C2%25C7%25D8%25C1%25D6%25BC%25BC%25BF%25E4_-001_%252892%2529.png&type=a340',\n",
       " 'https://search.pstatic.net/common/?src=http%3A%2F%2Fblogfiles.naver.net%2FMjAyMzAzMzFfMTA4%2FMDAxNjgwMjIyNTAxNDEw.EvKg9Qmx-_PiJGGMpB3hOo3kY9L-bIRhjpLyQHaC4C0g.8hb6ryzR_peI_xXWWZqe45amEiQfaOf87cu9UcAkIn8g.JPEG.chriss96%2F%25B4%25D9%25BF%25EE%25B7%25CE%25B5%25E5.jpg&type=a340',\n",
       " 'data:image/gif;base64,R0lGODlhAQABAIAAAAAAAP///yH5BAEAAAAALAAAAAABAAEAAAIBRAA7',\n",
       " 'data:image/gif;base64,R0lGODlhAQABAIAAAAAAAP///yH5BAEAAAAALAAAAAABAAEAAAIBRAA7',\n",
       " 'data:image/gif;base64,R0lGODlhAQABAIAAAAAAAP///yH5BAEAAAAALAAAAAABAAEAAAIBRAA7',\n",
       " 'data:image/gif;base64,R0lGODlhAQABAIAAAAAAAP///yH5BAEAAAAALAAAAAABAAEAAAIBRAA7',\n",
       " 'data:image/gif;base64,R0lGODlhAQABAIAAAAAAAP///yH5BAEAAAAALAAAAAABAAEAAAIBRAA7',\n",
       " 'data:image/gif;base64,R0lGODlhAQABAIAAAAAAAP///yH5BAEAAAAALAAAAAABAAEAAAIBRAA7',\n",
       " 'data:image/gif;base64,R0lGODlhAQABAIAAAAAAAP///yH5BAEAAAAALAAAAAABAAEAAAIBRAA7',\n",
       " 'data:image/gif;base64,R0lGODlhAQABAIAAAAAAAP///yH5BAEAAAAALAAAAAABAAEAAAIBRAA7',\n",
       " 'data:image/gif;base64,R0lGODlhAQABAIAAAAAAAP///yH5BAEAAAAALAAAAAABAAEAAAIBRAA7',\n",
       " 'data:image/gif;base64,R0lGODlhAQABAIAAAAAAAP///yH5BAEAAAAALAAAAAABAAEAAAIBRAA7',\n",
       " 'data:image/gif;base64,R0lGODlhAQABAIAAAAAAAP///yH5BAEAAAAALAAAAAABAAEAAAIBRAA7',\n",
       " 'data:image/gif;base64,R0lGODlhAQABAIAAAAAAAP///yH5BAEAAAAALAAAAAABAAEAAAIBRAA7',\n",
       " 'data:image/gif;base64,R0lGODlhAQABAIAAAAAAAP///yH5BAEAAAAALAAAAAABAAEAAAIBRAA7',\n",
       " 'data:image/gif;base64,R0lGODlhAQABAIAAAAAAAP///yH5BAEAAAAALAAAAAABAAEAAAIBRAA7',\n",
       " 'data:image/gif;base64,R0lGODlhAQABAIAAAAAAAP///yH5BAEAAAAALAAAAAABAAEAAAIBRAA7',\n",
       " 'data:image/gif;base64,R0lGODlhAQABAIAAAAAAAP///yH5BAEAAAAALAAAAAABAAEAAAIBRAA7',\n",
       " 'data:image/gif;base64,R0lGODlhAQABAIAAAAAAAP///yH5BAEAAAAALAAAAAABAAEAAAIBRAA7',\n",
       " 'data:image/gif;base64,R0lGODlhAQABAIAAAAAAAP///yH5BAEAAAAALAAAAAABAAEAAAIBRAA7',\n",
       " 'data:image/gif;base64,R0lGODlhAQABAIAAAAAAAP///yH5BAEAAAAALAAAAAABAAEAAAIBRAA7',\n",
       " 'data:image/gif;base64,R0lGODlhAQABAIAAAAAAAP///yH5BAEAAAAALAAAAAABAAEAAAIBRAA7',\n",
       " 'data:image/gif;base64,R0lGODlhAQABAIAAAAAAAP///yH5BAEAAAAALAAAAAABAAEAAAIBRAA7',\n",
       " 'data:image/gif;base64,R0lGODlhAQABAIAAAAAAAP///yH5BAEAAAAALAAAAAABAAEAAAIBRAA7',\n",
       " 'data:image/gif;base64,R0lGODlhAQABAIAAAAAAAP///yH5BAEAAAAALAAAAAABAAEAAAIBRAA7',\n",
       " 'data:image/gif;base64,R0lGODlhAQABAIAAAAAAAP///yH5BAEAAAAALAAAAAABAAEAAAIBRAA7',\n",
       " 'data:image/gif;base64,R0lGODlhAQABAIAAAAAAAP///yH5BAEAAAAALAAAAAABAAEAAAIBRAA7',\n",
       " 'data:image/gif;base64,R0lGODlhAQABAIAAAAAAAP///yH5BAEAAAAALAAAAAABAAEAAAIBRAA7',\n",
       " 'data:image/gif;base64,R0lGODlhAQABAIAAAAAAAP///yH5BAEAAAAALAAAAAABAAEAAAIBRAA7',\n",
       " 'data:image/gif;base64,R0lGODlhAQABAIAAAAAAAP///yH5BAEAAAAALAAAAAABAAEAAAIBRAA7',\n",
       " 'data:image/gif;base64,R0lGODlhAQABAIAAAAAAAP///yH5BAEAAAAALAAAAAABAAEAAAIBRAA7',\n",
       " 'data:image/gif;base64,R0lGODlhAQABAIAAAAAAAP///yH5BAEAAAAALAAAAAABAAEAAAIBRAA7',\n",
       " 'data:image/gif;base64,R0lGODlhAQABAIAAAAAAAP///yH5BAEAAAAALAAAAAABAAEAAAIBRAA7',\n",
       " 'data:image/gif;base64,R0lGODlhAQABAIAAAAAAAP///yH5BAEAAAAALAAAAAABAAEAAAIBRAA7',\n",
       " 'data:image/gif;base64,R0lGODlhAQABAIAAAAAAAP///yH5BAEAAAAALAAAAAABAAEAAAIBRAA7']"
      ]
     },
     "execution_count": 18,
     "metadata": {},
     "output_type": "execute_result"
    }
   ],
   "source": [
    "src"
   ]
  },
  {
   "cell_type": "code",
   "execution_count": 21,
   "id": "b26dfcbf",
   "metadata": {},
   "outputs": [],
   "source": [
    "# src값을 파일로 저장\n",
    "for i in range(len(src)):\n",
    "    urlretrieve(src[i], \"C:/Users/smhrd/Desktop/이미지/\"+str(i)+\".jpg\")"
   ]
  },
  {
   "cell_type": "code",
   "execution_count": 23,
   "id": "54ead9ef",
   "metadata": {},
   "outputs": [],
   "source": [
    "driver=wb.Chrome()\n",
    "driver.get(\"https://search.naver.com/search.naver?where=image&sm=tab_jum&query=%ED%91%B8\")\n",
    "time.sleep(1)\n",
    "\n",
    "body= driver.find_element(By.CSS_SELECTOR, \"body\")\n",
    "for i in range(10):# 정확히 몇번 내릴지 알 수 없어서 임의의 숫자(자바스크립트에선 가능)\n",
    "    body.send_keys(Keys.END)\n",
    "    time.sleep(0.5)#굳이 안 넣어서 상관 없음\n",
    "\n",
    "    \n",
    "img=driver.find_elements(By.CSS_SELECTOR, \"._image._listImage\")\n",
    "\n",
    "src=[]\n",
    "for i in range(len(img)):\n",
    "    src.append(img[i].get_attribute(\"src\"))\n",
    "\n",
    "for i in range(len(src)):\n",
    "    urlretrieve(src[i], \"C:/Users/smhrd/Desktop/이미지/\"+str(i)+\".jpg\")    "
   ]
  },
  {
   "cell_type": "code",
   "execution_count": null,
   "id": "d9fb3e8c",
   "metadata": {},
   "outputs": [],
   "source": [
    "# 현업에서는 스크롤을 내리면 이미지를 불러오겠다는 명령을 많이함.\n",
    "# 비동기 통신방식"
   ]
  }
 ],
 "metadata": {
  "kernelspec": {
   "display_name": "Python 3 (ipykernel)",
   "language": "python",
   "name": "python3"
  },
  "language_info": {
   "codemirror_mode": {
    "name": "ipython",
    "version": 3
   },
   "file_extension": ".py",
   "mimetype": "text/x-python",
   "name": "python",
   "nbconvert_exporter": "python",
   "pygments_lexer": "ipython3",
   "version": "3.11.3"
  }
 },
 "nbformat": 4,
 "nbformat_minor": 5
}
