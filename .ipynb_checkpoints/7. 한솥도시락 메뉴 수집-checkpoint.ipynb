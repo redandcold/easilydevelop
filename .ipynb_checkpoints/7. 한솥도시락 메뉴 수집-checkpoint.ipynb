{
 "cells": [
  {
   "cell_type": "code",
   "execution_count": 4,
   "id": "66dcbabb",
   "metadata": {},
   "outputs": [],
   "source": [
    "from selenium import webdriver as wb\n",
    "from selenium.webdriver.common.by import By\n",
    "from selenium.webdriver.common.keys import Keys\n",
    "import time"
   ]
  },
  {
   "cell_type": "code",
   "execution_count": 9,
   "id": "58ca4e19",
   "metadata": {},
   "outputs": [],
   "source": [
    "# 한솥도시락 사이트를 실행\n",
    "driver=wb.Chrome()\n"
   ]
  },
  {
   "cell_type": "code",
   "execution_count": 10,
   "id": "91ccec4a",
   "metadata": {},
   "outputs": [],
   "source": [
    "driver.get(\"https://www.hsd.co.kr/menu/menu_list\")"
   ]
  },
  {
   "cell_type": "code",
   "execution_count": 11,
   "id": "ebb85c34",
   "metadata": {},
   "outputs": [
    {
     "data": {
      "text/plain": [
       "[<selenium.webdriver.remote.webelement.WebElement (session=\"83645a83c228e119af3b3a95e0199ccb\", element=\"6470C6141A53723536BAFD3A28E012B0_element_314\")>,\n",
       " <selenium.webdriver.remote.webelement.WebElement (session=\"83645a83c228e119af3b3a95e0199ccb\", element=\"6470C6141A53723536BAFD3A28E012B0_element_322\")>,\n",
       " <selenium.webdriver.remote.webelement.WebElement (session=\"83645a83c228e119af3b3a95e0199ccb\", element=\"6470C6141A53723536BAFD3A28E012B0_element_323\")>,\n",
       " <selenium.webdriver.remote.webelement.WebElement (session=\"83645a83c228e119af3b3a95e0199ccb\", element=\"6470C6141A53723536BAFD3A28E012B0_element_324\")>]"
      ]
     },
     "execution_count": 11,
     "metadata": {},
     "output_type": "execute_result"
    }
   ],
   "source": [
    "# 상품명 수집\n",
    "title=driver.find_elements(By.CSS_SELECTOR, \".h.fz_03\")"
   ]
  }
 ],
 "metadata": {
  "kernelspec": {
   "display_name": "Python 3 (ipykernel)",
   "language": "python",
   "name": "python3"
  },
  "language_info": {
   "codemirror_mode": {
    "name": "ipython",
    "version": 3
   },
   "file_extension": ".py",
   "mimetype": "text/x-python",
   "name": "python",
   "nbconvert_exporter": "python",
   "pygments_lexer": "ipython3",
   "version": "3.11.3"
  }
 },
 "nbformat": 4,
 "nbformat_minor": 5
}
