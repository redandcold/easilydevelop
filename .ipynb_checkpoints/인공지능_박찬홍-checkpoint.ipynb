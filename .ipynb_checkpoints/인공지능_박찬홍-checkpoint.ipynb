{
 "cells": [
  {
   "cell_type": "markdown",
   "id": "f49fe2e4",
   "metadata": {},
   "source": [
    "# 필기답안지"
   ]
  },
  {
   "cell_type": "markdown",
   "id": "74e88e62",
   "metadata": {},
   "source": [
    "## 문제1 \n",
    "다음은 빅데이터 수집방식에 대한 설명이다. 빈 칸에 알맞은 방식을 고르시오."
   ]
  },
  {
   "cell_type": "markdown",
   "id": "29baa41a",
   "metadata": {},
   "source": [
    "- 1 : a.로그수집\n",
    "- 2 : f.크롤링\n",
    "- 3 : c.오픈API\n",
    "- 4 : h.센서수집"
   ]
  },
  {
   "cell_type": "markdown",
   "id": "098be8fb",
   "metadata": {},
   "source": [
    "## 문제2\n",
    "크롤링의 개념과 필요성에 대해 서술하시오.\n",
    "- 답안 : 크롤링이란 웹사이트 내용에 접근하여 원하는 정보를 추출해내는 행위이다. 디지털 환경에서 수집할 수 있는 정보의 양은 방대하며 이런 빅데이터에서 자신이 원하는 정보를 추출하는 유용한 도구이다. 이를 통해 업무의 효율성을 높이고 다른 경제적 활동을 창출할 수 있다."
   ]
  },
  {
   "cell_type": "markdown",
   "id": "29e08d76",
   "metadata": {},
   "source": [
    "## 문제3\n",
    "BeautifulSoup모듈에 대해 서술하시오.\n",
    "- 답안 : request로 웹에서 받아온 데이터는 텍스트의 나열로 이루어져 있는데, 이를 컴퓨터가 인식할 수 있는 형식으로 변환하는 것이 BeautifulSoup모듈이다."
   ]
  },
  {
   "cell_type": "markdown",
   "id": "04c5d7be",
   "metadata": {},
   "source": [
    "## 문제4\n",
    "다음 두 보기의 차이를 설명하시오.\n",
    "- 1 : find_element(By.CSS_SELECTOR) : CSS셀렉터로 구분되는 하나의 요소를 가져온다.\n",
    "- 2 : find_elements(By.CSS_SELECTOR) : CSS셀렉터로 구분되는 복수의 요소를 가져온다."
   ]
  },
  {
   "cell_type": "markdown",
   "id": "f82501f0",
   "metadata": {},
   "source": [
    "## 문제5\n",
    "다음은 HTML코드로 이루어진 웹 페이지이다. 밑줄 그어진 부분 BeautifulSoup 모듈의 함수를 이용하여 텍스트만 수집할 수 있는 코드에 빈칸을 작성하시오.\n",
    "- soup = bs(res.text, ‘lxml’)\n",
    "- crawling = soup.select_one(   #this_span               )\n",
    "- print(crawling.(    text          ))"
   ]
  },
  {
   "cell_type": "markdown",
   "id": "de85ce27",
   "metadata": {},
   "source": [
    "# 실기답안지"
   ]
  },
  {
   "cell_type": "markdown",
   "id": "b2e6a5d6",
   "metadata": {},
   "source": [
    "## 문제2\n",
    "자동제어를 통해 네이버 홈페이지에 접속하고 ‘크롤링’를 입력하여 검색하는      시스템을 구축하시오."
   ]
  },
  {
   "cell_type": "code",
   "execution_count": 56,
   "id": "88f056a8",
   "metadata": {},
   "outputs": [],
   "source": [
    "#selenium이 이미 설치되어 있음\n",
    "from selenium import webdriver as wb\n",
    "from selenium.webdriver.common.by import By\n",
    "from selenium.webdriver.common.keys import Keys\n",
    "import time\n",
    "driver=wb.Chrome()\n",
    "#네이버이동\n",
    "driver.get(\"https://www.naver.com/\")\n",
    "time.sleep(1)\n",
    "#검색창선택\n",
    "search=driver.find_element(By.ID, \"query\")\n",
    "#값전달\n",
    "search.send_keys(\"크롤링\")\n",
    "time.sleep(1)\n",
    "#엔터\n",
    "search.send_keys(Keys.ENTER)"
   ]
  },
  {
   "cell_type": "markdown",
   "id": "dd7ec12a",
   "metadata": {},
   "source": [
    "# 문제3\n",
    "자동제어를 통해 G마켓 홈페이지에 접속하고, 조건에 맞는 수집프로그램을 만드시오."
   ]
  },
  {
   "cell_type": "code",
   "execution_count": 6,
   "id": "3fbebb53",
   "metadata": {},
   "outputs": [
    {
     "data": {
      "text/html": [
       "<div>\n",
       "<style scoped>\n",
       "    .dataframe tbody tr th:only-of-type {\n",
       "        vertical-align: middle;\n",
       "    }\n",
       "\n",
       "    .dataframe tbody tr th {\n",
       "        vertical-align: top;\n",
       "    }\n",
       "\n",
       "    .dataframe thead th {\n",
       "        text-align: right;\n",
       "    }\n",
       "</style>\n",
       "<table border=\"1\" class=\"dataframe\">\n",
       "  <thead>\n",
       "    <tr style=\"text-align: right;\">\n",
       "      <th></th>\n",
       "      <th>상품명</th>\n",
       "      <th>가격</th>\n",
       "    </tr>\n",
       "  </thead>\n",
       "  <tbody>\n",
       "    <tr>\n",
       "      <th>0</th>\n",
       "      <td>[레이먼킴](론칭가 89800원) 총 3.2kg 레이먼킴 블랙앵거스 LA갈비 400...</td>\n",
       "      <td>39,000원</td>\n",
       "    </tr>\n",
       "    <tr>\n",
       "      <th>1</th>\n",
       "      <td>[크리넥스]크리넥스 3겹 순수소프트 25M 24롤 2팩 천연펄프 화장지 휴지 두루마리</td>\n",
       "      <td>23,900원</td>\n",
       "    </tr>\n",
       "    <tr>\n",
       "      <th>2</th>\n",
       "      <td>[CJ제일제당]CJ제일제당 T 고메 소바바치킨 소이허니 순살 375g X 5개</td>\n",
       "      <td>34,900원</td>\n",
       "    </tr>\n",
       "    <tr>\n",
       "      <th>3</th>\n",
       "      <td>껍질째 고당도 루비에스(미니) 사과 2kg 중(개당40-50g)</td>\n",
       "      <td>18,900원</td>\n",
       "    </tr>\n",
       "    <tr>\n",
       "      <th>4</th>\n",
       "      <td>[풀무원]풀무원 T 생산직송 사계절 아삭 포기김치 10kg</td>\n",
       "      <td>49,900원</td>\n",
       "    </tr>\n",
       "    <tr>\n",
       "      <th>5</th>\n",
       "      <td>옥주부 옥주부돈까스(등심8+치즈3+고구마3+소스 14개)</td>\n",
       "      <td>49,900원</td>\n",
       "    </tr>\n",
       "    <tr>\n",
       "      <th>6</th>\n",
       "      <td>[빅마마]빅마마 이혜정의 시크릿코인 205알(육수한알/개별포장)</td>\n",
       "      <td>55,110원</td>\n",
       "    </tr>\n",
       "    <tr>\n",
       "      <th>7</th>\n",
       "      <td>태안 자연산 통통 활꽃게 2kg 6-10미 / 26950원(최종쿠폰가) / 금어기 ...</td>\n",
       "      <td>31,700원</td>\n",
       "    </tr>\n",
       "    <tr>\n",
       "      <th>8</th>\n",
       "      <td>추추추어탕 500g 5팩 국내산 미꾸라지만 사용</td>\n",
       "      <td>19,500원</td>\n",
       "    </tr>\n",
       "    <tr>\n",
       "      <th>9</th>\n",
       "      <td>나비골 국내산 여름별미 열무김치 2kg</td>\n",
       "      <td>12,500원</td>\n",
       "    </tr>\n",
       "    <tr>\n",
       "      <th>10</th>\n",
       "      <td>훈제오리 슬라이스 800g + 800g</td>\n",
       "      <td>22,350원</td>\n",
       "    </tr>\n",
       "    <tr>\n",
       "      <th>11</th>\n",
       "      <td>개별포장 부드러운무청 산지직송 펀치볼 삶은 양구시래기 200g 10봉 (2kg)</td>\n",
       "      <td>18,900원</td>\n",
       "    </tr>\n",
       "    <tr>\n",
       "      <th>12</th>\n",
       "      <td>[풀무원]풀무원 T 얇은피꽉찬속 고기만두 400gX10봉</td>\n",
       "      <td>29,900원</td>\n",
       "    </tr>\n",
       "    <tr>\n",
       "      <th>13</th>\n",
       "      <td>[갭키즈](신세계마산점)[키즈 6-14세] 뉴 로고 패치 후드 집업 맨투맨 조거 팬...</td>\n",
       "      <td>23,780원</td>\n",
       "    </tr>\n",
       "    <tr>\n",
       "      <th>14</th>\n",
       "      <td>[버거킹](선물하기 특가) 버거킹 통새우와퍼+비프불고기버거+콜라R2</td>\n",
       "      <td>10,900원</td>\n",
       "    </tr>\n",
       "    <tr>\n",
       "      <th>15</th>\n",
       "      <td>[동아오츠카]동아오츠카 T 라인바싸 탄산수/탄산음료 500ml 2박스 ( 20입+2...</td>\n",
       "      <td>17,600원</td>\n",
       "    </tr>\n",
       "    <tr>\n",
       "      <th>16</th>\n",
       "      <td>[사조해표]사조해표 올리브유 900mL 3개</td>\n",
       "      <td>27,800원</td>\n",
       "    </tr>\n",
       "    <tr>\n",
       "      <th>17</th>\n",
       "      <td>[풀무원]풀무원 T 얇은피꽉찬속 김치만두 400gX10봉</td>\n",
       "      <td>29,900원</td>\n",
       "    </tr>\n",
       "    <tr>\n",
       "      <th>18</th>\n",
       "      <td>포도 고당도 샤인머스켓(특품) 1kg/2수</td>\n",
       "      <td>19,900원</td>\n",
       "    </tr>\n",
       "    <tr>\n",
       "      <th>19</th>\n",
       "      <td>(할인특가) 비지북 (Busy Book) 4종 : 세트구매</td>\n",
       "      <td>33,900원</td>\n",
       "    </tr>\n",
       "  </tbody>\n",
       "</table>\n",
       "</div>"
      ],
      "text/plain": [
       "                                                  상품명       가격\n",
       "0   [레이먼킴](론칭가 89800원) 총 3.2kg 레이먼킴 블랙앵거스 LA갈비 400...  39,000원\n",
       "1     [크리넥스]크리넥스 3겹 순수소프트 25M 24롤 2팩 천연펄프 화장지 휴지 두루마리  23,900원\n",
       "2         [CJ제일제당]CJ제일제당 T 고메 소바바치킨 소이허니 순살 375g X 5개  34,900원\n",
       "3                 껍질째 고당도 루비에스(미니) 사과 2kg 중(개당40-50g)  18,900원\n",
       "4                    [풀무원]풀무원 T 생산직송 사계절 아삭 포기김치 10kg  49,900원\n",
       "5                     옥주부 옥주부돈까스(등심8+치즈3+고구마3+소스 14개)  49,900원\n",
       "6                 [빅마마]빅마마 이혜정의 시크릿코인 205알(육수한알/개별포장)  55,110원\n",
       "7   태안 자연산 통통 활꽃게 2kg 6-10미 / 26950원(최종쿠폰가) / 금어기 ...  31,700원\n",
       "8                          추추추어탕 500g 5팩 국내산 미꾸라지만 사용  19,500원\n",
       "9                               나비골 국내산 여름별미 열무김치 2kg  12,500원\n",
       "10                              훈제오리 슬라이스 800g + 800g  22,350원\n",
       "11       개별포장 부드러운무청 산지직송 펀치볼 삶은 양구시래기 200g 10봉 (2kg)  18,900원\n",
       "12                    [풀무원]풀무원 T 얇은피꽉찬속 고기만두 400gX10봉  29,900원\n",
       "13  [갭키즈](신세계마산점)[키즈 6-14세] 뉴 로고 패치 후드 집업 맨투맨 조거 팬...  23,780원\n",
       "14              [버거킹](선물하기 특가) 버거킹 통새우와퍼+비프불고기버거+콜라R2  10,900원\n",
       "15  [동아오츠카]동아오츠카 T 라인바싸 탄산수/탄산음료 500ml 2박스 ( 20입+2...  17,600원\n",
       "16                           [사조해표]사조해표 올리브유 900mL 3개  27,800원\n",
       "17                    [풀무원]풀무원 T 얇은피꽉찬속 김치만두 400gX10봉  29,900원\n",
       "18                            포도 고당도 샤인머스켓(특품) 1kg/2수  19,900원\n",
       "19                   (할인특가) 비지북 (Busy Book) 4종 : 세트구매  33,900원"
      ]
     },
     "execution_count": 6,
     "metadata": {},
     "output_type": "execute_result"
    }
   ],
   "source": [
    "from selenium import webdriver as wb\n",
    "from selenium.webdriver.common.by import By\n",
    "from selenium.webdriver.common.keys import Keys\n",
    "import time\n",
    "\n",
    "driver=wb.Chrome()\n",
    "driver.get(\"http://corners.gmarket.co.kr/Bestsellers\")\n",
    "\n",
    "title=driver.find_elements(By.CSS_SELECTOR, \"#gBestWrap > div.best-list > ul > li > a\")\n",
    "price=driver.find_elements(By.CSS_SELECTOR, \"#gBestWrap > div.best-list > ul > li > div.item_price > div.s-price > strong > span\")\n",
    "\n",
    "title_list=[]\n",
    "price_list=[]\n",
    "for i in range(20):\n",
    "    title_list.append(title[i].text)\n",
    "    price_list.append(price[i].text)\n",
    "\n",
    "dic={\"상품명\":title_list,\"가격\":price_list}\n",
    "import pandas as pd\n",
    "df_market=pd.DataFrame(dic)\n",
    "df_market\n"
   ]
  },
  {
   "cell_type": "markdown",
   "id": "5fb5a240",
   "metadata": {},
   "source": [
    "# 문제4\n",
    "멜론차트에서 1~100위까지 정보를 수집하는 프로그램을 작성하시오."
   ]
  },
  {
   "cell_type": "code",
   "execution_count": 15,
   "id": "59a23936",
   "metadata": {},
   "outputs": [],
   "source": [
    "import requests as req\n",
    "from bs4 import BeautifulSoup as bs\n",
    "import pandas as pd\n",
    "head={\"User-Agent\":\"Mozilla/5.0 (Windows NT 10.0; Win64; x64) AppleWebKit/537.36 (KHTML, like Gecko) Chrome/116.0.0.0 Safari/537.36\"}\n",
    "res=req.get(\"https://www.melon.com/chart/\",headers =head)\n",
    "\n",
    "soup=bs(res.text, \"lxml\")\n",
    "singer=soup.select(\"div.ellipsis.rank02>span.checkEllipsis\")\n",
    "song=soup.select(\"div.ellipsis.rank01>span>a\")\n",
    "\n",
    "singer_list=[]\n",
    "song_list=[]\n",
    "rank_list=[]\n",
    "for i in range(len(singer)):\n",
    "    singer_list.append(singer[i].text)\n",
    "    song_list.append(song[i].text)\n",
    "    rank_list.append(i+1)\n",
    "\n",
    "dic={\"순위\":rank_list, \"가수이름\":singer_list, \"노래제목\":song_list}\n",
    "top100=pd.DataFrame(dic)\n",
    "top100.set_index(\"순위\", inplace=True)\n",
    "top100.to_csv(\"0823멜론차트.csv\", encoding=\"utf-8\")"
   ]
  },
  {
   "cell_type": "markdown",
   "id": "9c9091fc",
   "metadata": {},
   "source": [
    "# 문제5\n",
    "자동제어를 통해 한솥 페이지에 접속하고 전체 메뉴의 메뉴명 가격정보를 수집할 수 있는 프로그램을 작성하세요 "
   ]
  },
  {
   "cell_type": "code",
   "execution_count": 5,
   "id": "a7ee4451",
   "metadata": {},
   "outputs": [
    {
     "name": "stdout",
     "output_type": "stream",
     "text": [
      "전체 메뉴 로딩 완료\n"
     ]
    },
    {
     "ename": "NoSuchWindowException",
     "evalue": "Message: no such window: target window already closed\nfrom unknown error: web view not found\n  (Session info: chrome=116.0.5845.97)\nStacktrace:\n\tGetHandleVerifier [0x00007FF6D27A52A2+57122]\n\t(No symbol) [0x00007FF6D271EA92]\n\t(No symbol) [0x00007FF6D25EE3AB]\n\t(No symbol) [0x00007FF6D25CE1B9]\n\t(No symbol) [0x00007FF6D264B417]\n\t(No symbol) [0x00007FF6D265E24F]\n\t(No symbol) [0x00007FF6D2646DB3]\n\t(No symbol) [0x00007FF6D261D2B1]\n\t(No symbol) [0x00007FF6D261E494]\n\tGetHandleVerifier [0x00007FF6D2A4EF82+2849794]\n\tGetHandleVerifier [0x00007FF6D2AA1D24+3189156]\n\tGetHandleVerifier [0x00007FF6D2A9ACAF+3160367]\n\tGetHandleVerifier [0x00007FF6D2836D06+653702]\n\t(No symbol) [0x00007FF6D272A208]\n\t(No symbol) [0x00007FF6D27262C4]\n\t(No symbol) [0x00007FF6D27263F6]\n\t(No symbol) [0x00007FF6D27167A3]\n\tBaseThreadInitThunk [0x00007FFBE18D7614+20]\n\tRtlUserThreadStart [0x00007FFBE1C026B1+33]\n",
     "output_type": "error",
     "traceback": [
      "\u001b[1;31m---------------------------------------------------------------------------\u001b[0m",
      "\u001b[1;31mNoSuchWindowException\u001b[0m                     Traceback (most recent call last)",
      "Cell \u001b[1;32mIn[5], line 26\u001b[0m\n\u001b[0;32m     22\u001b[0m money_list\u001b[38;5;241m=\u001b[39m[]\n\u001b[0;32m     25\u001b[0m \u001b[38;5;28;01mfor\u001b[39;00m i \u001b[38;5;129;01min\u001b[39;00m \u001b[38;5;28mrange\u001b[39m(\u001b[38;5;28mlen\u001b[39m(title)):\n\u001b[1;32m---> 26\u001b[0m     menu_list\u001b[38;5;241m.\u001b[39mappend(title[i]\u001b[38;5;241m.\u001b[39mtext)\n\u001b[0;32m     27\u001b[0m     money_list\u001b[38;5;241m.\u001b[39mappend(price[i]\u001b[38;5;241m.\u001b[39mtext)\n\u001b[0;32m     29\u001b[0m dic \u001b[38;5;241m=\u001b[39m{\u001b[38;5;124m\"\u001b[39m\u001b[38;5;124m메뉴명\u001b[39m\u001b[38;5;124m\"\u001b[39m : menu_list, \u001b[38;5;124m\"\u001b[39m\u001b[38;5;124m가격정보\u001b[39m\u001b[38;5;124m\"\u001b[39m : money_list}\n",
      "File \u001b[1;32m~\\anaconda3\\Lib\\site-packages\\selenium\\webdriver\\remote\\webelement.py:90\u001b[0m, in \u001b[0;36mWebElement.text\u001b[1;34m(self)\u001b[0m\n\u001b[0;32m     87\u001b[0m \u001b[38;5;129m@property\u001b[39m\n\u001b[0;32m     88\u001b[0m \u001b[38;5;28;01mdef\u001b[39;00m \u001b[38;5;21mtext\u001b[39m(\u001b[38;5;28mself\u001b[39m) \u001b[38;5;241m-\u001b[39m\u001b[38;5;241m>\u001b[39m \u001b[38;5;28mstr\u001b[39m:\n\u001b[0;32m     89\u001b[0m \u001b[38;5;250m    \u001b[39m\u001b[38;5;124;03m\"\"\"The text of the element.\"\"\"\u001b[39;00m\n\u001b[1;32m---> 90\u001b[0m     \u001b[38;5;28;01mreturn\u001b[39;00m \u001b[38;5;28mself\u001b[39m\u001b[38;5;241m.\u001b[39m_execute(Command\u001b[38;5;241m.\u001b[39mGET_ELEMENT_TEXT)[\u001b[38;5;124m\"\u001b[39m\u001b[38;5;124mvalue\u001b[39m\u001b[38;5;124m\"\u001b[39m]\n",
      "File \u001b[1;32m~\\anaconda3\\Lib\\site-packages\\selenium\\webdriver\\remote\\webelement.py:395\u001b[0m, in \u001b[0;36mWebElement._execute\u001b[1;34m(self, command, params)\u001b[0m\n\u001b[0;32m    393\u001b[0m     params \u001b[38;5;241m=\u001b[39m {}\n\u001b[0;32m    394\u001b[0m params[\u001b[38;5;124m\"\u001b[39m\u001b[38;5;124mid\u001b[39m\u001b[38;5;124m\"\u001b[39m] \u001b[38;5;241m=\u001b[39m \u001b[38;5;28mself\u001b[39m\u001b[38;5;241m.\u001b[39m_id\n\u001b[1;32m--> 395\u001b[0m \u001b[38;5;28;01mreturn\u001b[39;00m \u001b[38;5;28mself\u001b[39m\u001b[38;5;241m.\u001b[39m_parent\u001b[38;5;241m.\u001b[39mexecute(command, params)\n",
      "File \u001b[1;32m~\\anaconda3\\Lib\\site-packages\\selenium\\webdriver\\remote\\webdriver.py:345\u001b[0m, in \u001b[0;36mWebDriver.execute\u001b[1;34m(self, driver_command, params)\u001b[0m\n\u001b[0;32m    343\u001b[0m response \u001b[38;5;241m=\u001b[39m \u001b[38;5;28mself\u001b[39m\u001b[38;5;241m.\u001b[39mcommand_executor\u001b[38;5;241m.\u001b[39mexecute(driver_command, params)\n\u001b[0;32m    344\u001b[0m \u001b[38;5;28;01mif\u001b[39;00m response:\n\u001b[1;32m--> 345\u001b[0m     \u001b[38;5;28mself\u001b[39m\u001b[38;5;241m.\u001b[39merror_handler\u001b[38;5;241m.\u001b[39mcheck_response(response)\n\u001b[0;32m    346\u001b[0m     response[\u001b[38;5;124m\"\u001b[39m\u001b[38;5;124mvalue\u001b[39m\u001b[38;5;124m\"\u001b[39m] \u001b[38;5;241m=\u001b[39m \u001b[38;5;28mself\u001b[39m\u001b[38;5;241m.\u001b[39m_unwrap_value(response\u001b[38;5;241m.\u001b[39mget(\u001b[38;5;124m\"\u001b[39m\u001b[38;5;124mvalue\u001b[39m\u001b[38;5;124m\"\u001b[39m, \u001b[38;5;28;01mNone\u001b[39;00m))\n\u001b[0;32m    347\u001b[0m     \u001b[38;5;28;01mreturn\u001b[39;00m response\n",
      "File \u001b[1;32m~\\anaconda3\\Lib\\site-packages\\selenium\\webdriver\\remote\\errorhandler.py:229\u001b[0m, in \u001b[0;36mErrorHandler.check_response\u001b[1;34m(self, response)\u001b[0m\n\u001b[0;32m    227\u001b[0m         alert_text \u001b[38;5;241m=\u001b[39m value[\u001b[38;5;124m\"\u001b[39m\u001b[38;5;124malert\u001b[39m\u001b[38;5;124m\"\u001b[39m]\u001b[38;5;241m.\u001b[39mget(\u001b[38;5;124m\"\u001b[39m\u001b[38;5;124mtext\u001b[39m\u001b[38;5;124m\"\u001b[39m)\n\u001b[0;32m    228\u001b[0m     \u001b[38;5;28;01mraise\u001b[39;00m exception_class(message, screen, stacktrace, alert_text)  \u001b[38;5;66;03m# type: ignore[call-arg]  # mypy is not smart enough here\u001b[39;00m\n\u001b[1;32m--> 229\u001b[0m \u001b[38;5;28;01mraise\u001b[39;00m exception_class(message, screen, stacktrace)\n",
      "\u001b[1;31mNoSuchWindowException\u001b[0m: Message: no such window: target window already closed\nfrom unknown error: web view not found\n  (Session info: chrome=116.0.5845.97)\nStacktrace:\n\tGetHandleVerifier [0x00007FF6D27A52A2+57122]\n\t(No symbol) [0x00007FF6D271EA92]\n\t(No symbol) [0x00007FF6D25EE3AB]\n\t(No symbol) [0x00007FF6D25CE1B9]\n\t(No symbol) [0x00007FF6D264B417]\n\t(No symbol) [0x00007FF6D265E24F]\n\t(No symbol) [0x00007FF6D2646DB3]\n\t(No symbol) [0x00007FF6D261D2B1]\n\t(No symbol) [0x00007FF6D261E494]\n\tGetHandleVerifier [0x00007FF6D2A4EF82+2849794]\n\tGetHandleVerifier [0x00007FF6D2AA1D24+3189156]\n\tGetHandleVerifier [0x00007FF6D2A9ACAF+3160367]\n\tGetHandleVerifier [0x00007FF6D2836D06+653702]\n\t(No symbol) [0x00007FF6D272A208]\n\t(No symbol) [0x00007FF6D27262C4]\n\t(No symbol) [0x00007FF6D27263F6]\n\t(No symbol) [0x00007FF6D27167A3]\n\tBaseThreadInitThunk [0x00007FFBE18D7614+20]\n\tRtlUserThreadStart [0x00007FFBE1C026B1+33]\n"
     ]
    }
   ],
   "source": [
    "from selenium import webdriver as wb\n",
    "from selenium.webdriver.common.by import By\n",
    "from selenium.webdriver.common.keys import Keys\n",
    "import time\n",
    "import pandas as pd\n",
    "\n",
    "driver=wb.Chrome()\n",
    "driver.get(\"https://www.hsd.co.kr/menu/menu_list\")\n",
    "\n",
    "try :\n",
    "    for i in range(10):\n",
    "        btn=driver.find_element(By.CSS_SELECTOR, \"a.c_05\")\n",
    "        btn.click()\n",
    "        time.sleep(1)\n",
    "except:\n",
    "    print(\"전체 메뉴 로딩 완료\")\n",
    "    \n",
    "title=driver.find_elements(By.CSS_SELECTOR, \".h.fz_03\")\n",
    "price=driver.find_elements(By.CSS_SELECTOR, \"div.item-price>strong\")\n",
    "\n",
    "menu_list=[]\n",
    "money_list=[]\n",
    "\n",
    "\n",
    "for i in range(len(title)):\n",
    "    menu_list.append(title[i].text)\n",
    "    money_list.append(price[i].text)\n",
    "\n",
    "dic ={\"메뉴명\" : menu_list, \"가격정보\" : money_list}\n",
    "hansot=pd.DataFrame(dic)\n",
    "hansot.to_csv(\"한솥메뉴.csv\", encoding=\"utf-8\")\n",
    "driver.quit()"
   ]
  }
 ],
 "metadata": {
  "kernelspec": {
   "display_name": "Python 3 (ipykernel)",
   "language": "python",
   "name": "python3"
  },
  "language_info": {
   "codemirror_mode": {
    "name": "ipython",
    "version": 3
   },
   "file_extension": ".py",
   "mimetype": "text/x-python",
   "name": "python",
   "nbconvert_exporter": "python",
   "pygments_lexer": "ipython3",
   "version": "3.11.3"
  }
 },
 "nbformat": 4,
 "nbformat_minor": 5
}
