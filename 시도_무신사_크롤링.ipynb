{
 "cells": [
  {
   "cell_type": "code",
   "execution_count": 1,
   "id": "94c29be6",
   "metadata": {},
   "outputs": [],
   "source": [
    "from selenium import webdriver as wb\n",
    "from selenium.webdriver.common.by import By\n",
    "from selenium.webdriver.common.keys import Keys\n",
    "import time"
   ]
  },
  {
   "cell_type": "code",
   "execution_count": 2,
   "id": "591e75b5",
   "metadata": {},
   "outputs": [],
   "source": [
    "driver= wb.Chrome()\n",
    "driver.get(\"https://www.musinsa.com/app/goods/2721156#estimateBox\")"
   ]
  },
  {
   "cell_type": "code",
   "execution_count": 12,
   "id": "a9389feb",
   "metadata": {},
   "outputs": [
    {
     "ename": "IndexError",
     "evalue": "list index out of range",
     "output_type": "error",
     "traceback": [
      "\u001b[1;31m---------------------------------------------------------------------------\u001b[0m",
      "\u001b[1;31mIndexError\u001b[0m                                Traceback (most recent call last)",
      "Cell \u001b[1;32mIn[12], line 2\u001b[0m\n\u001b[0;32m      1\u001b[0m review\u001b[38;5;241m=\u001b[39mdriver\u001b[38;5;241m.\u001b[39mfind_elements(By\u001b[38;5;241m.\u001b[39mCSS_SELECTOR,\u001b[38;5;124m\"\u001b[39m\u001b[38;5;124m#reviewListFragment > div > div.review-contents.review-contents--active > div.review-contents__text\u001b[39m\u001b[38;5;124m\"\u001b[39m)\n\u001b[1;32m----> 2\u001b[0m \u001b[38;5;28mprint\u001b[39m(review[\u001b[38;5;241m0\u001b[39m])\n",
      "\u001b[1;31mIndexError\u001b[0m: list index out of range"
     ]
    }
   ],
   "source": [
    "review=driver.find_element(By.CSS_SELECTOR,\"#reviewListFragment > div > div.review-contents.review-contents--active > div.review-contents__text\")\n",
    "print(review)\n",
    "\n",
    "# for i in review:\n",
    "#     review[i].text"
   ]
  },
  {
   "cell_type": "code",
   "execution_count": 16,
   "id": "577e64f6",
   "metadata": {},
   "outputs": [],
   "source": [
    "# 다음 리뷰\n",
    "for i in range(4,5):\n",
    "next=driver.find_element(By.CSS_SELECTOR,\"#reviewListFragment > div.nslist_bottom > div.pagination.textRight > div > a:nth-child(i)\")\n",
    "next.click()"
   ]
  },
  {
   "cell_type": "code",
   "execution_count": null,
   "id": "e3c2e9b7",
   "metadata": {},
   "outputs": [],
   "source": []
  }
 ],
 "metadata": {
  "kernelspec": {
   "display_name": "Python 3 (ipykernel)",
   "language": "python",
   "name": "python3"
  },
  "language_info": {
   "codemirror_mode": {
    "name": "ipython",
    "version": 3
   },
   "file_extension": ".py",
   "mimetype": "text/x-python",
   "name": "python",
   "nbconvert_exporter": "python",
   "pygments_lexer": "ipython3",
   "version": "3.11.3"
  }
 },
 "nbformat": 4,
 "nbformat_minor": 5
}
