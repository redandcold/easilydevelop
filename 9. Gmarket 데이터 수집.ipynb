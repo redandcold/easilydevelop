{
 "cells": [
  {
   "cell_type": "code",
   "execution_count": 1,
   "id": "4f830a90",
   "metadata": {},
   "outputs": [],
   "source": [
    "# 시험에 나옴"
   ]
  },
  {
   "cell_type": "code",
   "execution_count": 3,
   "id": "fba97d6a",
   "metadata": {},
   "outputs": [],
   "source": [
    "from selenium import webdriver as wb\n",
    "from selenium.webdriver.common.by import By\n",
    "from selenium.webdriver.common.keys import Keys\n",
    "import time"
   ]
  },
  {
   "cell_type": "code",
   "execution_count": 4,
   "id": "cb58e137",
   "metadata": {},
   "outputs": [],
   "source": [
    "driver=wb.Chrome()\n",
    "driver.get(\"https://www.gmarket.co.kr/n/best\")"
   ]
  },
  {
   "cell_type": "code",
   "execution_count": null,
   "id": "b21451a3",
   "metadata": {},
   "outputs": [],
   "source": [
    "#1. 첫 번째 상품을 클릭해서 들어간다.\n",
    "#2. 상품명, 상품가격을 수집(쿠폰 적용가를 가져올 것)\n",
    "#3. 페이지 뒤로가기\n",
    "#4. 1~3을 반복하는 코드를 작성"
   ]
  },
  {
   "cell_type": "code",
   "execution_count": 7,
   "id": "7dcaef3b",
   "metadata": {},
   "outputs": [],
   "source": [
    "#1. 첫 번째 상품을 클릭해서 들어간다.\n",
    "product=driver.find_elements(By.CSS_SELECTOR,\".image__lazy.image__load\")\n",
    "#클래스값이니까.  공백도 .으로 이어라\n",
    "product[0].click()"
   ]
  },
  {
   "cell_type": "code",
   "execution_count": 21,
   "id": "858e31a2",
   "metadata": {},
   "outputs": [
    {
     "name": "stdout",
     "output_type": "stream",
     "text": [
      "고메 소바바치킨 4봉(순살3+봉1)\n"
     ]
    },
    {
     "data": {
      "text/plain": [
       "'22,730원'"
      ]
     },
     "execution_count": 21,
     "metadata": {},
     "output_type": "execute_result"
    }
   ],
   "source": [
    "#2. 상품명, 상품가격을 수집(쿠폰 적용가를 가져올 것)\n",
    "title=driver.find_element(By.CSS_SELECTOR, \"#itemcase_basic > div > h1\")\n",
    "print(title.text)\n",
    "price=driver.find_element(By.CSS_SELECTOR,\"#itemcase_basic > div > div.price > span.price_innerwrap.price_innerwrap-coupon > strong\")\n",
    "price.text"
   ]
  },
  {
   "cell_type": "code",
   "execution_count": 14,
   "id": "f9c10fe9",
   "metadata": {},
   "outputs": [],
   "source": [
    "#3. 페이지 뒤로가기\n",
    "driver.back()"
   ]
  },
  {
   "cell_type": "code",
   "execution_count": 19,
   "id": "43b25d8a",
   "metadata": {},
   "outputs": [],
   "source": [
    "# 파이썬에서 반복문 진행되고 있는지 알 수가 없음\n",
    "# 반복문의 진행상황을 로딩바 형태로 제공 \n",
    "from tqdm.notebook import tqdm #원래는 tqdm_notebook\n"
   ]
  },
  {
   "cell_type": "code",
   "execution_count": 25,
   "id": "d8811b11",
   "metadata": {
    "collapsed": true
   },
   "outputs": [
    {
     "data": {
      "application/vnd.jupyter.widget-view+json": {
       "model_id": "adcfb847ee3b49a6b3aef2e126104f8d",
       "version_major": 2,
       "version_minor": 0
      },
      "text/plain": [
       "  0%|          | 0/10 [00:00<?, ?it/s]"
      ]
     },
     "metadata": {},
     "output_type": "display_data"
    }
   ],
   "source": [
    "#4. 1~3을 반복하는 코드를 작성\n",
    "title_list=[]\n",
    "price_list=[]\n",
    "\n",
    "for i in tqdm(range(10)):\n",
    "    product=driver.find_elements(By.CSS_SELECTOR,\".image__lazy.image__load\")\n",
    "    product[i].click()\n",
    "    time.sleep(2)\n",
    "    title=driver.find_element(By.CSS_SELECTOR, \"#itemcase_basic > div > h1\")\n",
    "    try:\n",
    "        # 쿠폰할인가 수집\n",
    "        price=driver.find_element(By.CSS_SELECTOR,\"#itemcase_basic > div > div.price > span.price_innerwrap.price_innerwrap-coupon > strong\")\n",
    "    except:\n",
    "        # 쿠폰할인가가 없는 경우 수집\n",
    "        price=driver.find_element(By.CSS_SELECTOR,\"#itemcase_basic > div > div.price > span.price_innerwrap > strong\")\n",
    "    title_list.append(title.text)\n",
    "    price_list.append(price.text)\n",
    "    driver.back()\n",
    "    time.sleep(1)"
   ]
  },
  {
   "cell_type": "code",
   "execution_count": 26,
   "id": "235ca045",
   "metadata": {},
   "outputs": [
    {
     "name": "stdout",
     "output_type": "stream",
     "text": [
      "['고메 소바바치킨 4봉(순살3+봉1)', '파격조건고메 함박스테이크 152gX10개', '산지애 사과 원액주스 60팩 /사과즙 100% 착즙 NFC', '친환경 재래 도시락김 4.5g 48봉/국내산/유기농김 / 유통기한 12월까지', '슈퍼대디 (2000명 한정/22930원)시그니처 77g 캡형 70매 20팩', '(23%+5%쿠폰)래핑차일드 가을 빅세일 69%OFF 상하복/티셔츠 추가쿠폰+무료배송', '어가찬 바다일품 백진미채 1kg / 15%+10%할인 / 21일 단하루 중복할인중', '소와나무 트리플 슬라이스 치즈 1.8kg 1개 (총100매) /최종가 18900원', '상상 그이상 오픈런 북메카 신간 모음전 70종', 'EGLOO 이글루캠 홈CCTV 홈카메라 베이비캠 펫캠 S3+ 초고화질 300만 화소 (2023년 NEW 출시)'] ['22,730원', '16,720원', '35,120원', '7,570원', '25,930원', '10,740원', '16,730원', '18,900원', '11,900원', '47,840원']\n"
     ]
    }
   ],
   "source": [
    "print(title_list, price_list)"
   ]
  },
  {
   "cell_type": "code",
   "execution_count": null,
   "id": "c6ea1bd6",
   "metadata": {},
   "outputs": [],
   "source": [
    "#순수한 텍스트 저장, DF, CSV까지 나옴"
   ]
  }
 ],
 "metadata": {
  "kernelspec": {
   "display_name": "Python 3 (ipykernel)",
   "language": "python",
   "name": "python3"
  },
  "language_info": {
   "codemirror_mode": {
    "name": "ipython",
    "version": 3
   },
   "file_extension": ".py",
   "mimetype": "text/x-python",
   "name": "python",
   "nbconvert_exporter": "python",
   "pygments_lexer": "ipython3",
   "version": "3.11.3"
  }
 },
 "nbformat": 4,
 "nbformat_minor": 5
}
