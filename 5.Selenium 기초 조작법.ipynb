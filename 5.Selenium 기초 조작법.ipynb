{
 "cells": [
  {
   "cell_type": "code",
   "execution_count": 1,
   "id": "c0f29cd9",
   "metadata": {
    "collapsed": true
   },
   "outputs": [
    {
     "name": "stdout",
     "output_type": "stream",
     "text": [
      "Requirement already satisfied: selenium in c:\\users\\smhrd\\anaconda3\\lib\\site-packages (4.11.2)\n",
      "Requirement already satisfied: urllib3[socks]<3,>=1.26 in c:\\users\\smhrd\\anaconda3\\lib\\site-packages (from selenium) (1.26.16)\n",
      "Requirement already satisfied: trio~=0.17 in c:\\users\\smhrd\\anaconda3\\lib\\site-packages (from selenium) (0.22.2)\n",
      "Requirement already satisfied: trio-websocket~=0.9 in c:\\users\\smhrd\\anaconda3\\lib\\site-packages (from selenium) (0.10.3)\n",
      "Requirement already satisfied: certifi>=2021.10.8 in c:\\users\\smhrd\\anaconda3\\lib\\site-packages (from selenium) (2023.5.7)\n",
      "Requirement already satisfied: attrs>=20.1.0 in c:\\users\\smhrd\\anaconda3\\lib\\site-packages (from trio~=0.17->selenium) (22.1.0)\n",
      "Requirement already satisfied: sortedcontainers in c:\\users\\smhrd\\anaconda3\\lib\\site-packages (from trio~=0.17->selenium) (2.4.0)\n",
      "Requirement already satisfied: idna in c:\\users\\smhrd\\anaconda3\\lib\\site-packages (from trio~=0.17->selenium) (3.4)\n",
      "Requirement already satisfied: outcome in c:\\users\\smhrd\\anaconda3\\lib\\site-packages (from trio~=0.17->selenium) (1.2.0)\n",
      "Requirement already satisfied: sniffio in c:\\users\\smhrd\\anaconda3\\lib\\site-packages (from trio~=0.17->selenium) (1.2.0)\n",
      "Requirement already satisfied: cffi>=1.14 in c:\\users\\smhrd\\anaconda3\\lib\\site-packages (from trio~=0.17->selenium) (1.15.1)\n",
      "Requirement already satisfied: exceptiongroup in c:\\users\\smhrd\\anaconda3\\lib\\site-packages (from trio-websocket~=0.9->selenium) (1.1.3)\n",
      "Requirement already satisfied: wsproto>=0.14 in c:\\users\\smhrd\\anaconda3\\lib\\site-packages (from trio-websocket~=0.9->selenium) (1.2.0)\n",
      "Requirement already satisfied: PySocks!=1.5.7,<2.0,>=1.5.6 in c:\\users\\smhrd\\anaconda3\\lib\\site-packages (from urllib3[socks]<3,>=1.26->selenium) (1.7.1)\n",
      "Requirement already satisfied: pycparser in c:\\users\\smhrd\\anaconda3\\lib\\site-packages (from cffi>=1.14->trio~=0.17->selenium) (2.21)\n",
      "Requirement already satisfied: h11<1,>=0.9.0 in c:\\users\\smhrd\\anaconda3\\lib\\site-packages (from wsproto>=0.14->trio-websocket~=0.9->selenium) (0.14.0)\n"
     ]
    }
   ],
   "source": [
    "# selenium 라이브러리 설치\n",
    "# pip:파이썬의 모든 라이브러리가 pip에 들어가 있다. javascript는 npn\n",
    "!pip install selenium\n",
    "#pip U install"
   ]
  },
  {
   "cell_type": "code",
   "execution_count": 2,
   "id": "0be84ad8",
   "metadata": {},
   "outputs": [],
   "source": [
    "# 컴퓨터용 크롬드라이버 설치\n",
    "# 주의점: 반드시 내가 사용중인 크롬과 같은 버전을 설치\n",
    "# 현재 작업중인 폴더에 파일을 넣어준다."
   ]
  },
  {
   "cell_type": "code",
   "execution_count": 3,
   "id": "08558965",
   "metadata": {},
   "outputs": [],
   "source": [
    "# 라이브러리 호출\n",
    "# webdriver=크롬창 역할\n",
    "# 정적에서 requset와 역할을 비슷, request처럼 요청을 할 뿐 아니라 흐름제어(?) 가능\n",
    "# 브라우저에서 하기 때문에 beautiful soup\n",
    "from selenium import webdriver as wb\n",
    "#컴퓨터용 키보드 라이브러리\n",
    "from selenium.webdriver.common.keys import Keys"
   ]
  },
  {
   "cell_type": "code",
   "execution_count": 4,
   "id": "5fbc9e9a",
   "metadata": {},
   "outputs": [
    {
     "name": "stdout",
     "output_type": "stream",
     "text": [
      "Requirement already satisfied: webdriver_manager in c:\\users\\smhrd\\anaconda3\\lib\\site-packages (4.0.0)\n",
      "Requirement already satisfied: requests in c:\\users\\smhrd\\anaconda3\\lib\\site-packages (from webdriver_manager) (2.29.0)\n",
      "Requirement already satisfied: python-dotenv in c:\\users\\smhrd\\anaconda3\\lib\\site-packages (from webdriver_manager) (1.0.0)\n",
      "Requirement already satisfied: packaging in c:\\users\\smhrd\\anaconda3\\lib\\site-packages (from webdriver_manager) (23.0)\n",
      "Requirement already satisfied: charset-normalizer<4,>=2 in c:\\users\\smhrd\\anaconda3\\lib\\site-packages (from requests->webdriver_manager) (2.0.4)\n",
      "Requirement already satisfied: idna<4,>=2.5 in c:\\users\\smhrd\\anaconda3\\lib\\site-packages (from requests->webdriver_manager) (3.4)\n",
      "Requirement already satisfied: urllib3<1.27,>=1.21.1 in c:\\users\\smhrd\\anaconda3\\lib\\site-packages (from requests->webdriver_manager) (1.26.16)\n",
      "Requirement already satisfied: certifi>=2017.4.17 in c:\\users\\smhrd\\anaconda3\\lib\\site-packages (from requests->webdriver_manager) (2023.5.7)\n"
     ]
    }
   ],
   "source": [
    "!pip install webdriver_manager#!는 한줄씩 순차적으로 실행하라는 의미"
   ]
  },
  {
   "cell_type": "code",
   "execution_count": 5,
   "id": "a472de98",
   "metadata": {},
   "outputs": [],
   "source": [
    "# 크롬드라이버 최신버전 설치하는 방법\n",
    "# webdriver_manager 설치 반드시 한번 필요\n",
    "#!pip install webdriver_manager\n",
    "from selenium.webdriver.chrome.service import Service\n",
    "from webdriver_manager.chrome import ChromeDriverManager\n",
    "# 선택자를 구분지어주는 라이브러리\n",
    "from selenium.webdriver.common.by import By"
   ]
  },
  {
   "cell_type": "code",
   "execution_count": 6,
   "id": "f77e62bf",
   "metadata": {},
   "outputs": [],
   "source": [
    "#service=Service(ChromeDriverManager().install())\n",
    "driver=wb.Chrome()\n",
    "#현재 내가 쓰고 있는 것과 같은 버전에 맞게 알아서 지금 환경에 맞게 설치되는 것."
   ]
  },
  {
   "cell_type": "code",
   "execution_count": 7,
   "id": "49c59853",
   "metadata": {},
   "outputs": [
    {
     "data": {
      "text/plain": [
       "<selenium.webdriver.chrome.webdriver.WebDriver (session=\"9fb4e0d0c0e8d5b3007d1d7b583c9f99\")>"
      ]
     },
     "execution_count": 7,
     "metadata": {},
     "output_type": "execute_result"
    }
   ],
   "source": [
    "#1. 크롬창을 실행 / 같은 곳에 넣어서 경로를 안 적어도 됨.\n",
    "# wb.Chrome() -> 크롬창을 실행하는 명령\n",
    "# 매개변수 -> 크롬드라이버의 위치(경로)를 작성\n",
    "# 작성하지 않아도 되는 이유는 -> 현재 작업중인 파일과 드라이버가 같은경로면 작성하지 않아도 된다.\n",
    "wb.Chrome()"
   ]
  },
  {
   "cell_type": "code",
   "execution_count": 8,
   "id": "adb822e6",
   "metadata": {},
   "outputs": [],
   "source": [
    "# 페이지를 이동\n",
    "driver.get(\"http://www.naver.com\")"
   ]
  },
  {
   "cell_type": "code",
   "execution_count": 9,
   "id": "aecff648",
   "metadata": {},
   "outputs": [],
   "source": [
    "# 검색창을 찾아오기!\n",
    "# find_element() -> 필요한 요소를 찾는 명령\n",
    "# find_elements() -> 복수의 요소를 찾는 명령\n",
    "search=driver.find_element(By.ID, \"query\")"
   ]
  },
  {
   "cell_type": "code",
   "execution_count": 10,
   "id": "7b67d6c2",
   "metadata": {},
   "outputs": [],
   "source": [
    "#send_keys() -> 원하는 값을 전달할 때 사용\n",
    "search.send_keys(\"이강인\")"
   ]
  },
  {
   "cell_type": "code",
   "execution_count": 11,
   "id": "bb8b501a",
   "metadata": {},
   "outputs": [],
   "source": [
    "# 엔터치기\n",
    "search.send_keys(Keys.ENTER)"
   ]
  },
  {
   "cell_type": "code",
   "execution_count": 12,
   "id": "b9b818f2",
   "metadata": {},
   "outputs": [],
   "source": [
    "# 화면 스크롤 하는 방법\n",
    "# body태그를 찾아서\n",
    "\n",
    "body=driver.find_element(By.TAG_NAME, \"body\")#find_element_By_css_collector : 옛날 방법/ by라는 모듈? 라이버러리가 없었다.\n",
    "body.send_keys(Keys.END)"
   ]
  },
  {
   "cell_type": "code",
   "execution_count": 13,
   "id": "fa44526c",
   "metadata": {},
   "outputs": [],
   "source": [
    "#페이지 뒤로가기\n",
    "# 크롬이 가지고 있는 기능이기 때문에, 태그가 아니다\n",
    "driver.back()"
   ]
  },
  {
   "cell_type": "code",
   "execution_count": 14,
   "id": "125c8abf",
   "metadata": {},
   "outputs": [],
   "source": [
    "# 다시한번 검색창에 손흥민\n",
    "# ★★화면이 깜빡거린다 > 화면전환이 일어나면★★\n",
    "# 컴퓨터는 모든 기억을 잃어버린다.\n",
    "#반드시 요소를 재검색 해야한다.\n",
    "search=driver.find_element(By.ID, \"query\")\n",
    "search.send_keys(\"손흥민\")"
   ]
  },
  {
   "cell_type": "code",
   "execution_count": 15,
   "id": "07d800ab",
   "metadata": {},
   "outputs": [
    {
     "data": {
      "text/plain": [
       "<selenium.webdriver.remote.webelement.WebElement (session=\"850b352ff6d3c2325fb3c3a550114e54\", element=\"9229CA9D66B13536DA5E0168AAB297E0_element_138\")>"
      ]
     },
     "execution_count": 15,
     "metadata": {},
     "output_type": "execute_result"
    }
   ],
   "source": [
    "driver.find_element(By.CLASS_NAME,\"btn_search\")"
   ]
  },
  {
   "cell_type": "code",
   "execution_count": 16,
   "id": "ef6e3a53",
   "metadata": {},
   "outputs": [],
   "source": [
    "# 검색버튼을 클릭\n",
    "search_btn=driver.find_element(By.CLASS_NAME,\"btn_search\")\n",
    "search_btn.click()"
   ]
  },
  {
   "cell_type": "code",
   "execution_count": 17,
   "id": "437fcda6",
   "metadata": {},
   "outputs": [],
   "source": [
    "# 창을 종료\n",
    "#driver.close()#메모리는 남아있음\n",
    "driver.quit()# 메모리도 지움"
   ]
  },
  {
   "cell_type": "code",
   "execution_count": 18,
   "id": "5d57f8cd",
   "metadata": {},
   "outputs": [],
   "source": [
    "driver=wb.Chrome()"
   ]
  },
  {
   "cell_type": "code",
   "execution_count": 19,
   "id": "e06c7c7f",
   "metadata": {},
   "outputs": [],
   "source": [
    "driver.get(\"https://search.naver.com/search.naver?where=news&sm=tab_jum&query=%EC%9D%B4%EA%B0%95%EC%9D%B8\")"
   ]
  },
  {
   "cell_type": "code",
   "execution_count": 20,
   "id": "5f534c7e",
   "metadata": {},
   "outputs": [],
   "source": [
    "title=driver.find_elements(By.CSS_SELECTOR, \".news_tit\")#element하면 처음 것만 들고온다."
   ]
  },
  {
   "cell_type": "code",
   "execution_count": 21,
   "id": "b1a0c63f",
   "metadata": {},
   "outputs": [
    {
     "name": "stdout",
     "output_type": "stream",
     "text": [
      "[오피셜] 이강인과 한 달 만 결별…네이마르, PSG 떠나 알 힐랄 이적→연봉 2...\n",
      "\"LEE가 희생한다\"…PSG, MF 영입 실패하면 '이강인 보직 변경'→\"중원에서 발...\n",
      "네이마르, 이강인과 작별 인사…\"짧은 시간이었지만…또 만나자\"\n",
      "사우디로 떠난 네이마르, 이강인 새 짝꿍은 음바페\n",
      "\"나중에 봐, 아들\" 네이마르, 사우디 이적으로 이강인과 이별\n",
      "이강인 떠난 네이마르…호날두, 벤제마와 사우디판 별들의 전쟁\n",
      "네이마르, 사우디행 확정...이강인과 작별\n",
      "네이마르vs호날두 연봉 \"이강인은 내마음속의 너\" PSG 경기일정\n",
      "이강인, PSG의 플레이메이커 맡나\n",
      "PSG 이강인 윙어→중원사령관 변경…주전 경쟁도 청신호\n"
     ]
    }
   ],
   "source": [
    "for i in title :\n",
    "    print(i.text)"
   ]
  },
  {
   "cell_type": "code",
   "execution_count": 22,
   "id": "a3b040c7",
   "metadata": {},
   "outputs": [],
   "source": [
    "btn=driver.find_element(By.CSS_SELECTOR, \"a.btn_next\")"
   ]
  },
  {
   "cell_type": "code",
   "execution_count": 23,
   "id": "795e561a",
   "metadata": {},
   "outputs": [],
   "source": [
    "btn.click()"
   ]
  },
  {
   "cell_type": "code",
   "execution_count": 24,
   "id": "e8c3bd38",
   "metadata": {},
   "outputs": [],
   "source": [
    "title_list=[]\n",
    "for i in range(0,10):\n",
    "    title=driver.find_elements(By.CSS_SELECTOR, \".news_tit\")\n",
    "    for j in title:\n",
    "        title_list.append(j.text)\n",
    "    btn=driver.find_element(By.CSS_SELECTOR, \"a.btn_next\")\n",
    "    btn.click()\n"
   ]
  },
  {
   "cell_type": "code",
   "execution_count": 25,
   "id": "51ad63ce",
   "metadata": {
    "collapsed": true
   },
   "outputs": [
    {
     "data": {
      "text/plain": [
       "['음바페, 불화 접고 PSG 복귀… 이강인과 호흡 맞출까',\n",
       " '음바페 복귀 여파…PSG 이강인, 미드필더로 이동하나',\n",
       " '네이마르 \"내 아들 이강인, 나중에 보자\"…애틋한 작별 인사',\n",
       " 'PSG, 네이마르 가고 음바페 온다…이강인과 호흡 기대',\n",
       " 'PSG, 음바페 남고 네이마르 가고...이강인에게 득일까 실일까',\n",
       " 'PSG맨 이강인, 항저우AG 금메달을 부탁해!',\n",
       " '음바페, PSG 1군 훈련 복귀…이강인과 호흡 맞출까',\n",
       " '이강인 차출 허가만 고민?…손발을 맞출 시간도 쉽지 않네',\n",
       " 'PSG→알 힐랄 입단 네이마르 \"이강인 나중에 꼭 다시 만나자, 짧았지만 이미 ...',\n",
       " '춘천듀오 명예회복 급선무…이강인·양현준 축구판 흔들까',\n",
       " '이강인 킬패스 받을 공격수 2명 더 온다…‘총 1억 유로 투입 계획’',\n",
       " '단짝 네이마르 떠나지만…이강인 찔러주고 음바페 마무리 볼 수 있을까',\n",
       " '네이마르가 끝이 아니다…이강인 남겨두고 아틀레티코 이적 가능성',\n",
       " '음바페·뎀벨레 합류로 입지 ‘급축소’ 이강인, 미드필더로 보직 변경 가능성',\n",
       " '리그1도 이강인 활약에 합격점…\"메시 자리 훌륭하게 소화\"',\n",
       " \"클룩, 이강인 경기 '직관' PSG 홈구장 공식 티켓 판매\",\n",
       " \"재기발랄함 선보인 이강인... PSG 데뷔전 '성공적'\",\n",
       " '이강인, PSG 데뷔전서 선발 82분 활약…팀은 0-0 무승부',\n",
       " \"'파리지앵' 이강인, PSG 데뷔전서 펄펄…팀은 로리앙과 0-0\",\n",
       " '이강인 포지션 경쟁자 등장…프랑스 윙어 뎀벨레, PSG 입단',\n",
       " \"'이강인 배출' 화랑대기 축구 대회, 1600경기 대장정 돌입\",\n",
       " '“메시 빈자리 메워”…이강인 리그1 데뷔전부터 MVP',\n",
       " 'PSG 이강인, 데뷔전 평점 7.4…\"메시의 공간을 즐겨\"(종합)',\n",
       " \"'이강인 주전 경쟁 빨간불 켜지나?'…음바페 복귀+뎀벨레 영입+엔리케의 영입...\",\n",
       " \"'이강인한테 절해야 할 판'...마요르카, 역사상 가장 호화로운 이적시장\",\n",
       " '이강인 데뷔전부터 MVP… “메시 자리 훌륭하게 소화”',\n",
       " '이강인, PSG 데뷔전서 빼어난 활약…PSG는 로리앙과 0-0 무승부',\n",
       " '사우디로 간 네이마르…상상초월 ‘특급대우’',\n",
       " '메시·네이마르 대체→이강인 \"충분히 메울 수 있다\"… PSG 팀 플랜 중심된다',\n",
       " '음바페는 복귀했는데...네이마르는 사우디행, 이강인과 삼각편대 구축은 결국...',\n",
       " \"[핫클릭] '죽은 새끼 등에 업고'…제주서 포착된 돌고래 모성애 外\",\n",
       " \"김민재 연봉도 '아시아 1위' 올랐다…최고 이적료 이어 또 새 역사\",\n",
       " '이강인 떠나는 네이마르, 파리서 알 힐랄 메디컬+계약 마무리→하루 만에 사우...',\n",
       " '라인 따라 공 모는 이강인',\n",
       " '이강인, PSG 데뷔전 82분 소화..팀은 로리앙과 0-0 무승부',\n",
       " '네이마르, 이강인과 짧은 브로맨스 끝…사우디 알힐랄 이적 합의',\n",
       " '이강인만 남겨두고 떠난다... 네이마르, PSG 떠나 사우디 알힐랄행',\n",
       " \"'0-0 무승부에도' PSG 전담 키커 이강인의 성공적 데뷔전\",\n",
       " '손흥민, EPL 사상 두 번째 팀 주장…이강인은 리그1 데뷔전',\n",
       " '파리 생제르맹서 성공적 데뷔전 치르는 이강인',\n",
       " '‘전담 키커’ 이강인, 선발 데뷔전서 82분…PSG는 0-0 무승부',\n",
       " '\"메시의 공간에서 뛰는 걸 즐겨\" 리그1도 주목한 이강인',\n",
       " '클린스만·황선홍 ‘강인異夢(이몽)’',\n",
       " \"'파리지앵 이강인'이 뜬다…어수선한 PSG 구할 해결사 될까\",\n",
       " \"[속보] '굿바이 이강인'…음바페에 '팽 당한' 네이마르, 16일 새벽 알힐랄 입...\",\n",
       " '이강인에게 빠진 PSG 팬들 “마스터 클래스이자 건전지, 네이마르보다 낫다”',\n",
       " '이강인, 첫 경기부터 \\'MVP\\'…\"메시 빈자리 완벽 소화\"',\n",
       " \"이강인, PSG 데뷔 임박‥'케인, 뮌헨 정식 입단'\",\n",
       " '\"이강인 경기 직관\"…클룩, \\'생제르맹\\' 홈경기 티켓 판매',\n",
       " \"'파리지앵 이강인'이 뜬다…리그1 개막전에 당당히 선발 출전\",\n",
       " \"'슛돌이' 이강인, 뒤숭숭한 명문구단서 날아오를까[유럽축구 개막⓶]\",\n",
       " 'PSG 데뷔전 선발 출전해 드리블하는 이강인',\n",
       " '이강인, PSG 데뷔전 81분 활약…팀은 로리앙과 0:0 무승부',\n",
       " \"'SON이랑 다르네' 네이마르, 이강인과 작별→사우디행...연봉 2200억 잭팟\",\n",
       " '벤치를 의심했던 이강인의 화려한 데뷔전',\n",
       " \"이강인과 '브로맨스', 네이마르 떠나나…바르사 복귀설\",\n",
       " '손흥민→이강인 뛰고 있는 해외 축구 구단, \"광복절 축하합니다\"',\n",
       " '이강인도 등짝 스매싱, 음바페 복귀 \"한 달 전과는 완전히 달라\" 이강인 패스...',\n",
       " \"'김민재' 티빙 '이강인' 쿠플... 해외리그 개막에 국내 OTT 반색\",\n",
       " 'PSG 데뷔전 앞서 동료들과 단체 사진 찍는 이강인',\n",
       " '로리앙의 제던 칼룰루와 볼 다투는 PSG 이강인',\n",
       " '로리앙과 경기 중 그라운드 쓰러진 PSG의 이강인',\n",
       " '‘이강인 경쟁자’ 왔다! PSG, 뎀벨레 이적 공식 발표...5년 계약+등 번호 23...',\n",
       " \"'PSG' 이강인·'뮌헨' 김민재, 공식 데뷔전 합격점\",\n",
       " \"'이강인은 옵션B'→PSG 2023-24시즌 예상 베스트11\",\n",
       " '로리앙의 몬타사르 탈비 제치는 PSG의 이강인',\n",
       " '로리앙의 장 빅토르 마켕고와 몸싸움하는 이강인',\n",
       " \"PSG 이강인 개막전 선발 82분 '합격'...공격수 중 최고 평점\",\n",
       " '개막전부터 허벅지 잡은 더 브라위너…이강인도 재발할라',\n",
       " '케인도 네이마르도 이별 가시화…손흥민·이강인 홀로서기',\n",
       " \"'데뷔전 펄펄' 이강인, 공격진 볼 터치 1위…팀 내 4번째 높은 평점\",\n",
       " '\"좋은 일만 가득하길\" 짧지만 우정 나눈 네이강인, 훈훈한 작별인사',\n",
       " '\"음바페, 1R-2R-3R 결장!\"…이강인에게 \\'3번의 기회\\'일 수 있다',\n",
       " '이강인의 PSG 주말 개막전, 안방서 본다...쿠팡플레이 생중계',\n",
       " '이강인, 데뷔전부터 \\'대박\\' 쳤다! 佛, \\'한국의 보석\\' 찬사 \"LEE 드리블, 점점...',\n",
       " '‘이강인 공식 데뷔전 선발 출격!’ PSG, 2023-24 프랑스 리그앙 개막전 선발...',\n",
       " \"이강인 현지 시선 바뀌었다…PSG 개막전 '깜짝 선발' 전망\",\n",
       " '이강인은 어쩌나…에이스 모두 이탈 가능성↑, 네이마르 가격표도 붙었다',\n",
       " '김연아 1위 스포츠대상, 상위권 경쟁 치열해지나…2위 허웅 3위 이강인',\n",
       " '손흥민·이강인·김민재·양현준·조규성... 기대와 아쉬움 속 새로운 시즌 맞...',\n",
       " '‘가벼운 움직임 선보인 이강인’ PSG, 로리앙과 0-0 동점으로 전반 종료',\n",
       " \"[오피셜] '네이강인 듀오는 부산으로 끝' 네이마르, PSG 떠나 알 힐랄행\",\n",
       " '당혹스러울 이강인…음바페 이어 네이마르마저 PSG 떠나나',\n",
       " '이강인은 또 빠졌다…서서히 드러나는 PSG 베스트11 윤곽',\n",
       " '[영상] \"이거 보러 한국에서 왔어요!\" 이강인 팬심 뜨겁게 타오른 프랑스',\n",
       " \"이강인 '브로맨스', 단 한 경기로 '끝'...네이마르, PSG와 결별→바르사 복귀...\",\n",
       " \"이강인의 PSG, '카타르월드컵 해트트릭' 하무스 임대 영입\",\n",
       " \"'메시 역할' 이어받은 이강인, 코너킥-패스-슈팅 모두 번뜩였다[스한 이슈人]\",\n",
       " '“스타군단에서 살아남아라”…이강인 ‘기회와 도전’ 시작',\n",
       " '뮌헨 김민재‧PSG 이강인, 리그 넘어 유럽 정상까지 넘본다',\n",
       " '음바페가 방출 원한 네이마르, 이강인 남겨두고 사우디 알 힐랄 이적→2년 계...',\n",
       " '\"이강인과 작별\" 네이마르, 사우디 알힐랄 이적... 연봉·이적료는?',\n",
       " '\"이강인, \\'음바페-뎀벨레 듀오\\'에 밀릴 위험→ MF로 뛰어야\" PSG \\'중원사령관...',\n",
       " '이강인, 네이마르와 이별-음바페 짝꿍 가능성',\n",
       " '\\'이강인과 작별\\' 네이마르, 알힐랄 간 숨은 이유...\"SNS 글 하나에 7억\" 초대...',\n",
       " '\"나중에 보자, 아들\" PSG 떠나 알힐랄 이적한 네이마르가 이강인에게 보내는 ...',\n",
       " '\\'이강인으론 안되니?\\' 음바페, PSG 잔류 후 \\'1군 복귀\\'→\"맨시티 MF 영입 요청...',\n",
       " '\\'이강인X네이마르\\'의 슬픈 결별…\"짧지만 특별했어\", \"나중에 봐 아들\" 알 힐...',\n",
       " '리그1도 이강인 활약에 합격점…\"메시 자리 훌륭하게 소화\"',\n",
       " \"클룩, 이강인 경기 '직관' PSG 홈구장 공식 티켓 판매\"]"
      ]
     },
     "execution_count": 25,
     "metadata": {},
     "output_type": "execute_result"
    }
   ],
   "source": [
    "title_list"
   ]
  }
 ],
 "metadata": {
  "kernelspec": {
   "display_name": "Python 3 (ipykernel)",
   "language": "python",
   "name": "python3"
  },
  "language_info": {
   "codemirror_mode": {
    "name": "ipython",
    "version": 3
   },
   "file_extension": ".py",
   "mimetype": "text/x-python",
   "name": "python",
   "nbconvert_exporter": "python",
   "pygments_lexer": "ipython3",
   "version": "3.11.3"
  }
 },
 "nbformat": 4,
 "nbformat_minor": 5
}
