{
 "cells": [
  {
   "cell_type": "code",
   "execution_count": 44,
   "id": "acba273e",
   "metadata": {},
   "outputs": [],
   "source": [
    "from selenium import webdriver as wb\n",
    "from selenium.webdriver.common.by import By\n",
    "from selenium.webdriver.common.keys import Keys\n",
    "import time\n",
    "import pandas as pd"
   ]
  },
  {
   "cell_type": "code",
   "execution_count": 9,
   "id": "4c1fdabc",
   "metadata": {},
   "outputs": [],
   "source": [
    "# 한솥도시락 사이트를 실행\n",
    "driver=wb.Chrome()\n"
   ]
  },
  {
   "cell_type": "code",
   "execution_count": 10,
   "id": "f52f067a",
   "metadata": {},
   "outputs": [],
   "source": [
    "driver.get(\"https://www.hsd.co.kr/menu/menu_list\")"
   ]
  },
  {
   "cell_type": "code",
   "execution_count": 34,
   "id": "21b9055f",
   "metadata": {},
   "outputs": [],
   "source": [
    "# 상품명 수집\n",
    "title=driver.find_elements(By.CSS_SELECTOR, \".h.fz_03\")"
   ]
  },
  {
   "cell_type": "code",
   "execution_count": 35,
   "id": "f6bae9f0",
   "metadata": {},
   "outputs": [],
   "source": [
    "price=driver.find_elements(By.CSS_SELECTOR, \"div.item-price>strong\")"
   ]
  },
  {
   "cell_type": "code",
   "execution_count": 36,
   "id": "22776f41",
   "metadata": {},
   "outputs": [
    {
     "data": {
      "text/plain": [
       "111"
      ]
     },
     "execution_count": 36,
     "metadata": {},
     "output_type": "execute_result"
    }
   ],
   "source": [
    "len(title)"
   ]
  },
  {
   "cell_type": "code",
   "execution_count": 25,
   "id": "a3e0b637",
   "metadata": {},
   "outputs": [],
   "source": [
    "title_list=[]\n",
    "\n",
    "menu={\"메뉴명\":title, \"가격\":price}"
   ]
  },
  {
   "cell_type": "code",
   "execution_count": 26,
   "id": "dd6e319c",
   "metadata": {},
   "outputs": [
    {
     "data": {
      "text/plain": [
       "{'메뉴명': [<selenium.webdriver.remote.webelement.WebElement (session=\"83645a83c228e119af3b3a95e0199ccb\", element=\"6470C6141A53723536BAFD3A28E012B0_element_314\")>,\n",
       "  <selenium.webdriver.remote.webelement.WebElement (session=\"83645a83c228e119af3b3a95e0199ccb\", element=\"6470C6141A53723536BAFD3A28E012B0_element_322\")>,\n",
       "  <selenium.webdriver.remote.webelement.WebElement (session=\"83645a83c228e119af3b3a95e0199ccb\", element=\"6470C6141A53723536BAFD3A28E012B0_element_323\")>,\n",
       "  <selenium.webdriver.remote.webelement.WebElement (session=\"83645a83c228e119af3b3a95e0199ccb\", element=\"6470C6141A53723536BAFD3A28E012B0_element_324\")>],\n",
       " '가격': [<selenium.webdriver.remote.webelement.WebElement (session=\"83645a83c228e119af3b3a95e0199ccb\", element=\"6470C6141A53723536BAFD3A28E012B0_element_319\")>,\n",
       "  <selenium.webdriver.remote.webelement.WebElement (session=\"83645a83c228e119af3b3a95e0199ccb\", element=\"6470C6141A53723536BAFD3A28E012B0_element_332\")>,\n",
       "  <selenium.webdriver.remote.webelement.WebElement (session=\"83645a83c228e119af3b3a95e0199ccb\", element=\"6470C6141A53723536BAFD3A28E012B0_element_337\")>,\n",
       "  <selenium.webdriver.remote.webelement.WebElement (session=\"83645a83c228e119af3b3a95e0199ccb\", element=\"6470C6141A53723536BAFD3A28E012B0_element_338\")>]}"
      ]
     },
     "execution_count": 26,
     "metadata": {},
     "output_type": "execute_result"
    }
   ],
   "source": []
  },
  {
   "cell_type": "code",
   "execution_count": 31,
   "id": "fad29945",
   "metadata": {},
   "outputs": [],
   "source": [
    "# 모든 데이터를 보기 위해서 더보기 버튼\n",
    "btn=driver.find_element(By.CSS_SELECTOR, \"a.c_05\")\n",
    "btn.click()"
   ]
  },
  {
   "cell_type": "code",
   "execution_count": 37,
   "id": "3577c124",
   "metadata": {},
   "outputs": [
    {
     "ename": "ElementNotInteractableException",
     "evalue": "Message: element not interactable\n  (Session info: chrome=116.0.5845.97)\nStacktrace:\n\tGetHandleVerifier [0x00007FF7E84F52A2+57122]\n\t(No symbol) [0x00007FF7E846EA92]\n\t(No symbol) [0x00007FF7E833E25D]\n\t(No symbol) [0x00007FF7E8378E97]\n\t(No symbol) [0x00007FF7E836F25F]\n\t(No symbol) [0x00007FF7E8396FDA]\n\t(No symbol) [0x00007FF7E836EB76]\n\t(No symbol) [0x00007FF7E83971F0]\n\t(No symbol) [0x00007FF7E83AEB82]\n\t(No symbol) [0x00007FF7E8396DB3]\n\t(No symbol) [0x00007FF7E836D2B1]\n\t(No symbol) [0x00007FF7E836E494]\n\tGetHandleVerifier [0x00007FF7E879EF82+2849794]\n\tGetHandleVerifier [0x00007FF7E87F1D24+3189156]\n\tGetHandleVerifier [0x00007FF7E87EACAF+3160367]\n\tGetHandleVerifier [0x00007FF7E8586D06+653702]\n\t(No symbol) [0x00007FF7E847A208]\n\t(No symbol) [0x00007FF7E84762C4]\n\t(No symbol) [0x00007FF7E84763F6]\n\t(No symbol) [0x00007FF7E84667A3]\n\tBaseThreadInitThunk [0x00007FFC23E87614+20]\n\tRtlUserThreadStart [0x00007FFC24D226B1+33]\n",
     "output_type": "error",
     "traceback": [
      "\u001b[1;31m---------------------------------------------------------------------------\u001b[0m",
      "\u001b[1;31mElementNotInteractableException\u001b[0m           Traceback (most recent call last)",
      "Cell \u001b[1;32mIn[37], line 4\u001b[0m\n\u001b[0;32m      2\u001b[0m \u001b[38;5;28;01mfor\u001b[39;00m i \u001b[38;5;129;01min\u001b[39;00m \u001b[38;5;28mrange\u001b[39m(\u001b[38;5;241m5\u001b[39m):\n\u001b[0;32m      3\u001b[0m     btn\u001b[38;5;241m=\u001b[39mdriver\u001b[38;5;241m.\u001b[39mfind_element(By\u001b[38;5;241m.\u001b[39mCSS_SELECTOR, \u001b[38;5;124m\"\u001b[39m\u001b[38;5;124ma.c_05\u001b[39m\u001b[38;5;124m\"\u001b[39m)\n\u001b[1;32m----> 4\u001b[0m     btn\u001b[38;5;241m.\u001b[39mclick()\n\u001b[0;32m      5\u001b[0m     time\u001b[38;5;241m.\u001b[39msleep()\n",
      "File \u001b[1;32m~\\anaconda3\\Lib\\site-packages\\selenium\\webdriver\\remote\\webelement.py:94\u001b[0m, in \u001b[0;36mWebElement.click\u001b[1;34m(self)\u001b[0m\n\u001b[0;32m     92\u001b[0m \u001b[38;5;28;01mdef\u001b[39;00m \u001b[38;5;21mclick\u001b[39m(\u001b[38;5;28mself\u001b[39m) \u001b[38;5;241m-\u001b[39m\u001b[38;5;241m>\u001b[39m \u001b[38;5;28;01mNone\u001b[39;00m:\n\u001b[0;32m     93\u001b[0m \u001b[38;5;250m    \u001b[39m\u001b[38;5;124;03m\"\"\"Clicks the element.\"\"\"\u001b[39;00m\n\u001b[1;32m---> 94\u001b[0m     \u001b[38;5;28mself\u001b[39m\u001b[38;5;241m.\u001b[39m_execute(Command\u001b[38;5;241m.\u001b[39mCLICK_ELEMENT)\n",
      "File \u001b[1;32m~\\anaconda3\\Lib\\site-packages\\selenium\\webdriver\\remote\\webelement.py:395\u001b[0m, in \u001b[0;36mWebElement._execute\u001b[1;34m(self, command, params)\u001b[0m\n\u001b[0;32m    393\u001b[0m     params \u001b[38;5;241m=\u001b[39m {}\n\u001b[0;32m    394\u001b[0m params[\u001b[38;5;124m\"\u001b[39m\u001b[38;5;124mid\u001b[39m\u001b[38;5;124m\"\u001b[39m] \u001b[38;5;241m=\u001b[39m \u001b[38;5;28mself\u001b[39m\u001b[38;5;241m.\u001b[39m_id\n\u001b[1;32m--> 395\u001b[0m \u001b[38;5;28;01mreturn\u001b[39;00m \u001b[38;5;28mself\u001b[39m\u001b[38;5;241m.\u001b[39m_parent\u001b[38;5;241m.\u001b[39mexecute(command, params)\n",
      "File \u001b[1;32m~\\anaconda3\\Lib\\site-packages\\selenium\\webdriver\\remote\\webdriver.py:345\u001b[0m, in \u001b[0;36mWebDriver.execute\u001b[1;34m(self, driver_command, params)\u001b[0m\n\u001b[0;32m    343\u001b[0m response \u001b[38;5;241m=\u001b[39m \u001b[38;5;28mself\u001b[39m\u001b[38;5;241m.\u001b[39mcommand_executor\u001b[38;5;241m.\u001b[39mexecute(driver_command, params)\n\u001b[0;32m    344\u001b[0m \u001b[38;5;28;01mif\u001b[39;00m response:\n\u001b[1;32m--> 345\u001b[0m     \u001b[38;5;28mself\u001b[39m\u001b[38;5;241m.\u001b[39merror_handler\u001b[38;5;241m.\u001b[39mcheck_response(response)\n\u001b[0;32m    346\u001b[0m     response[\u001b[38;5;124m\"\u001b[39m\u001b[38;5;124mvalue\u001b[39m\u001b[38;5;124m\"\u001b[39m] \u001b[38;5;241m=\u001b[39m \u001b[38;5;28mself\u001b[39m\u001b[38;5;241m.\u001b[39m_unwrap_value(response\u001b[38;5;241m.\u001b[39mget(\u001b[38;5;124m\"\u001b[39m\u001b[38;5;124mvalue\u001b[39m\u001b[38;5;124m\"\u001b[39m, \u001b[38;5;28;01mNone\u001b[39;00m))\n\u001b[0;32m    347\u001b[0m     \u001b[38;5;28;01mreturn\u001b[39;00m response\n",
      "File \u001b[1;32m~\\anaconda3\\Lib\\site-packages\\selenium\\webdriver\\remote\\errorhandler.py:229\u001b[0m, in \u001b[0;36mErrorHandler.check_response\u001b[1;34m(self, response)\u001b[0m\n\u001b[0;32m    227\u001b[0m         alert_text \u001b[38;5;241m=\u001b[39m value[\u001b[38;5;124m\"\u001b[39m\u001b[38;5;124malert\u001b[39m\u001b[38;5;124m\"\u001b[39m]\u001b[38;5;241m.\u001b[39mget(\u001b[38;5;124m\"\u001b[39m\u001b[38;5;124mtext\u001b[39m\u001b[38;5;124m\"\u001b[39m)\n\u001b[0;32m    228\u001b[0m     \u001b[38;5;28;01mraise\u001b[39;00m exception_class(message, screen, stacktrace, alert_text)  \u001b[38;5;66;03m# type: ignore[call-arg]  # mypy is not smart enough here\u001b[39;00m\n\u001b[1;32m--> 229\u001b[0m \u001b[38;5;28;01mraise\u001b[39;00m exception_class(message, screen, stacktrace)\n",
      "\u001b[1;31mElementNotInteractableException\u001b[0m: Message: element not interactable\n  (Session info: chrome=116.0.5845.97)\nStacktrace:\n\tGetHandleVerifier [0x00007FF7E84F52A2+57122]\n\t(No symbol) [0x00007FF7E846EA92]\n\t(No symbol) [0x00007FF7E833E25D]\n\t(No symbol) [0x00007FF7E8378E97]\n\t(No symbol) [0x00007FF7E836F25F]\n\t(No symbol) [0x00007FF7E8396FDA]\n\t(No symbol) [0x00007FF7E836EB76]\n\t(No symbol) [0x00007FF7E83971F0]\n\t(No symbol) [0x00007FF7E83AEB82]\n\t(No symbol) [0x00007FF7E8396DB3]\n\t(No symbol) [0x00007FF7E836D2B1]\n\t(No symbol) [0x00007FF7E836E494]\n\tGetHandleVerifier [0x00007FF7E879EF82+2849794]\n\tGetHandleVerifier [0x00007FF7E87F1D24+3189156]\n\tGetHandleVerifier [0x00007FF7E87EACAF+3160367]\n\tGetHandleVerifier [0x00007FF7E8586D06+653702]\n\t(No symbol) [0x00007FF7E847A208]\n\t(No symbol) [0x00007FF7E84762C4]\n\t(No symbol) [0x00007FF7E84763F6]\n\t(No symbol) [0x00007FF7E84667A3]\n\tBaseThreadInitThunk [0x00007FFC23E87614+20]\n\tRtlUserThreadStart [0x00007FFC24D226B1+33]\n"
     ]
    }
   ],
   "source": [
    "#더보기 버튼을 반복해서 클릭\n",
    "for i in range(5):\n",
    "    btn=driver.find_element(By.CSS_SELECTOR, \"a.c_05\")\n",
    "    btn.click()\n",
    "    time.sleep()"
   ]
  },
  {
   "cell_type": "markdown",
   "id": "74d876db",
   "metadata": {},
   "source": [
    "# 예외처리\n",
    "- 오류가 나기 전까지 코드를 실행하다가(try) \n",
    "- 오류가 발생하면 다른코드를 진행하겠다!(except)"
   ]
  },
  {
   "cell_type": "code",
   "execution_count": 43,
   "id": "f4b84ce8",
   "metadata": {},
   "outputs": [
    {
     "name": "stdout",
     "output_type": "stream",
     "text": [
      "더 이상 버튼이 없습니다.\n"
     ]
    }
   ],
   "source": [
    "try :\n",
    "    # 오류가 나기 전까지 실행할 코드의 영역\n",
    "    for i in range(5):\n",
    "        btn=driver.find_element(By.CSS_SELECTOR, \"a.c_05\")\n",
    "        btn.click()\n",
    "        time.sleep(1)\n",
    "except:\n",
    "    # 오류가 났을 때 실행할 코드의 영역\n",
    "    print(\"더 이상 버튼이 없습니다.\")"
   ]
  },
  {
   "cell_type": "code",
   "execution_count": 46,
   "id": "e4652d63",
   "metadata": {},
   "outputs": [
    {
     "name": "stdout",
     "output_type": "stream",
     "text": [
      "더 이상 버튼이 없습니다.\n"
     ]
    }
   ],
   "source": [
    "# 한 코드에 완성\n",
    "driver=wb.Chrome()\n",
    "driver.get(\"https://www.hsd.co.kr/menu/menu_list\")\n",
    "time.sleep(1)\n",
    "\n",
    "try :\n",
    "    for i in range(5):\n",
    "        btn=driver.find_element(By.CSS_SELECTOR, \"a.c_05\")\n",
    "        btn.click()\n",
    "        time.sleep(1)\n",
    "except:\n",
    "    print(\"더 이상 버튼이 없습니다.\")\n",
    "    \n",
    "title=driver.find_elements(By.CSS_SELECTOR, \".h.fz_03\")\n",
    "price=driver.find_elements(By.CSS_SELECTOR, \"div.item-price>strong\")\n",
    "\n",
    "title_list=[]\n",
    "price_list=[]\n",
    "\n",
    "\n",
    "for i in range(len(title)):\n",
    "    title_list.append(title[i].text)\n",
    "    price_list.append(price[i].text)\n",
    "\n",
    "dic ={\"상품명\" : title_list, \"가격정보\" : price_list}\n",
    "hansot=pd.DataFrame(dic)\n",
    "hansot.to_csv(\"한솥메뉴.csv\", encoding=\"utf-8\")\n",
    "driver.quit()"
   ]
  },
  {
   "cell_type": "markdown",
   "id": "f4f164a5",
   "metadata": {},
   "source": [
    "# 크롤링하는 프로세스\n",
    "1. 브라우저를 실행 및 페이지 이동\n",
    "2. 전체 데이터 로딩(더보기 클릭, 스크롤 이동 등)\n",
    "      -  데이터 준비단계\n",
    "3. 수집하고자 하는 요소를 수집\n",
    "    -  데이터 수집단계\n",
    "4. 수집된 데이터(요소)에서 순수한 텍스트만 저장\n",
    "    - 데이터 가공단계\n",
    "5. 수집된 텍스트 데이터를 활용(표, csv)\n",
    "    - 데이터 활용단계\n",
    "\n",
    "## 팁\n",
    "1. 오류가 발생할 수 있으니 항상 예외처리를 생각해야 한다.\n",
    "2. 반복문을 작성할 때 for 먼저 쓰는 것이 아니다!-> 반드시 하나의 완벽한 코드를 작성 후 반복문으로 묶어주어라\n",
    "3. time.sleep()을 잘 활용하자-> 클라이언트가 서버에게 요청을 보낼 때마다 작성을 해주자.\n",
    "4. 코드를 다시 실행할 때는 절대 절대 run all 돌리지 말기-하나씩 진행"
   ]
  }
 ],
 "metadata": {
  "kernelspec": {
   "display_name": "Python 3 (ipykernel)",
   "language": "python",
   "name": "python3"
  },
  "language_info": {
   "codemirror_mode": {
    "name": "ipython",
    "version": 3
   },
   "file_extension": ".py",
   "mimetype": "text/x-python",
   "name": "python",
   "nbconvert_exporter": "python",
   "pygments_lexer": "ipython3",
   "version": "3.11.3"
  }
 },
 "nbformat": 4,
 "nbformat_minor": 5
}
