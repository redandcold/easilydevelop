{
 "cells": [
  {
   "cell_type": "code",
   "execution_count": 1,
   "id": "6620fa1d",
   "metadata": {},
   "outputs": [],
   "source": [
    "from selenium import webdriver as wb\n",
    "from selenium.webdriver.common.by import By\n",
    "from selenium.webdriver.common.keys import Keys\n",
    "import time"
   ]
  },
  {
   "cell_type": "code",
   "execution_count": null,
   "id": "6670d0d0",
   "metadata": {},
   "outputs": [],
   "source": [
    "#현재는 해당 신발을 선택해서 들어간 주소와 리뷰개수를 입력해야 합니다."
   ]
  },
  {
   "cell_type": "code",
   "execution_count": 107,
   "id": "37f54f61",
   "metadata": {},
   "outputs": [],
   "source": [
    "# 쿠팡은 한페이지에 리뷰 5개->리뷰 92개라면->19개 페이지\n",
    "# 리뷰개수 적어주기\n",
    "import math\n",
    "n=130 #리뷰개수\n",
    "page= math.ceil(n/5)#페이지 수\n",
    "next= math.floor(page/10) # 페이지 넘김(10페이지 넘기는 버튼) 누르는 횟수"
   ]
  },
  {
   "cell_type": "code",
   "execution_count": 117,
   "id": "2e4476b1",
   "metadata": {},
   "outputs": [],
   "source": [
    "driver= wb.Chrome()\n",
    "driver.get(\"https://www.coupang.com/vp/products/4876045675?itemId=6343292064&vendorItemId=73638634061&q=%EC%BA%A0%ED%94%84%EB%9D%BC%EC%9D%B8+%EB%93%B1%EC%82%B0%ED%99%94&itemsCount=36&searchId=c6d1a6fe549f4e05826d986fb23e24c2&rank=6&isAddedCart=\")\n",
    "time.sleep(2)\n",
    "\n",
    "#제목에 한줄평으로 남긴 사용자도 있어서 title_list로 따로 빼봤습니다.\n",
    "review_list=[]\n",
    "title_list=[]\n",
    " #상품평 클릭\n",
    "driver.find_element(By.CSS_SELECTOR, \"#btfTab > ul.tab-titles > li:nth-child(2)\").click()\n",
    "time.sleep(2)\n",
    "for l in range(next+1):\n",
    "    try:\n",
    "        for k in range(10):\n",
    "            # css = 리뷰텍스트 선택자\n",
    "            css=\"#btfTab > ul.tab-contents > li.product-review.tab-contents__content > div > div.sdp-review__article.js_reviewArticleContainer > section.js_reviewArticleListContainer > article > div.sdp-review__article__list__review.js_reviewArticleContentContainer > div\"\n",
    "            camp_line=driver.find_elements(By.CSS_SELECTOR,css)\n",
    "            for i in range(len(camp_line)):\n",
    "                review_list.append(camp_line[i].text)\n",
    "            # 제목에 쓴 내용 따오기\n",
    "            title=\"#btfTab > ul.tab-contents > li.product-review.tab-contents__content > div > div.sdp-review__article.js_reviewArticleContainer > section.js_reviewArticleListContainer > article > div.sdp-review__article__list__headline\"\n",
    "            title_sel=driver.find_elements(By.CSS_SELECTOR,title)\n",
    "            for j in range(len(title_sel)):\n",
    "                title_list.append(driver.find_elements(By.CSS_SELECTOR,title)[j].text)\n",
    "            #다음 페이지(변수 k 이용 하여)로 넘기기\n",
    "            driver.find_element(By.CSS_SELECTOR, f\"#btfTab > ul.tab-contents > li.product-review.tab-contents__content > div > div.sdp-review__article.js_reviewArticleContainer > section.js_reviewArticleListContainer > div.sdp-review__article__page.js_reviewArticlePagingContainer > button:nth-child({k+2})\").click()\n",
    "            time.sleep(1)\n",
    "        #10페이지 단위 넘기기\n",
    "        driver.find_element(By.CSS_SELECTOR, \"#btfTab > ul.tab-contents > li.product-review.tab-contents__content > div > div.sdp-review__article.js_reviewArticleContainer > section.js_reviewArticleListContainer > div.sdp-review__article__page.js_reviewArticlePagingContainer > button.sdp-review__article__page__next.js_reviewArticlePageNextBtn\").click()\n",
    "        time.sleep(1)\n",
    "    except:\n",
    "        break;\n",
    "\n"
   ]
  },
  {
   "cell_type": "code",
   "execution_count": 120,
   "id": "3b929acd",
   "metadata": {},
   "outputs": [],
   "source": [
    "review=review_list[5:]\n",
    "get_title=title_list[5:]\n",
    "review.append(get_title)"
   ]
  },
  {
   "cell_type": "code",
   "execution_count": 121,
   "id": "efed61cc",
   "metadata": {},
   "outputs": [],
   "source": [
    "import pandas as pd\n",
    "\n",
    "review=review_list[5:]\n",
    "get_title=title_list[5:]\n",
    "review.append(get_title)\n",
    "\n",
    "num_list=[]\n",
    "for i in range(len(review)):\n",
    "    num_list.append(i+1)\n",
    "\n",
    "dic={\"순번\":num_list, \"리뷰\":review}\n"
   ]
  },
  {
   "cell_type": "code",
   "execution_count": 123,
   "id": "305b6486",
   "metadata": {},
   "outputs": [],
   "source": [
    "\n",
    "df_review=pd.DataFrame(dic)\n",
    "dfreview=df_review.set_index(\"순번\")\n",
    "dfreview.to_csv(\"캠프라인 릿지엑스 남녀공용 릿지화.csv\", encoding=\"utf-8\")"
   ]
  }
 ],
 "metadata": {
  "kernelspec": {
   "display_name": "Python 3 (ipykernel)",
   "language": "python",
   "name": "python3"
  },
  "language_info": {
   "codemirror_mode": {
    "name": "ipython",
    "version": 3
   },
   "file_extension": ".py",
   "mimetype": "text/x-python",
   "name": "python",
   "nbconvert_exporter": "python",
   "pygments_lexer": "ipython3",
   "version": "3.11.3"
  }
 },
 "nbformat": 4,
 "nbformat_minor": 5
}
