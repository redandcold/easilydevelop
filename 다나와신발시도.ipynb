{
 "cells": [
  {
   "cell_type": "code",
   "execution_count": 2,
   "id": "c713efd1",
   "metadata": {},
   "outputs": [],
   "source": [
    "from selenium import webdriver as wb\n",
    "from selenium.webdriver.common.by import By\n",
    "from selenium.webdriver.common.keys import Keys\n",
    "import time\n",
    "import pandas as pd"
   ]
  },
  {
   "cell_type": "code",
   "execution_count": 25,
   "id": "acf8e7aa",
   "metadata": {},
   "outputs": [
    {
     "ename": "NoSuchElementException",
     "evalue": "Message: no such element: Unable to locate element: {\"method\":\"css selector\",\"selector\":\"#bookmark_cm_opinion_item > a\"}\n  (Session info: chrome=116.0.5845.141); For documentation on this error, please visit: https://www.selenium.dev/documentation/webdriver/troubleshooting/errors#no-such-element-exception\nStacktrace:\n\tGetHandleVerifier [0x00007FF7A67352A2+57122]\n\t(No symbol) [0x00007FF7A66AEA92]\n\t(No symbol) [0x00007FF7A657E3AB]\n\t(No symbol) [0x00007FF7A65B7D3E]\n\t(No symbol) [0x00007FF7A65B7E2C]\n\t(No symbol) [0x00007FF7A65F0B67]\n\t(No symbol) [0x00007FF7A65D701F]\n\t(No symbol) [0x00007FF7A65EEB82]\n\t(No symbol) [0x00007FF7A65D6DB3]\n\t(No symbol) [0x00007FF7A65AD2B1]\n\t(No symbol) [0x00007FF7A65AE494]\n\tGetHandleVerifier [0x00007FF7A69DEF82+2849794]\n\tGetHandleVerifier [0x00007FF7A6A31D24+3189156]\n\tGetHandleVerifier [0x00007FF7A6A2ACAF+3160367]\n\tGetHandleVerifier [0x00007FF7A67C6D06+653702]\n\t(No symbol) [0x00007FF7A66BA208]\n\t(No symbol) [0x00007FF7A66B62C4]\n\t(No symbol) [0x00007FF7A66B63F6]\n\t(No symbol) [0x00007FF7A66A67A3]\n\tBaseThreadInitThunk [0x00007FFC2B8A7614+20]\n\tRtlUserThreadStart [0x00007FFC2BBE26B1+33]\n",
     "output_type": "error",
     "traceback": [
      "\u001b[1;31m---------------------------------------------------------------------------\u001b[0m",
      "\u001b[1;31mNoSuchElementException\u001b[0m                    Traceback (most recent call last)",
      "Cell \u001b[1;32mIn[25], line 9\u001b[0m\n\u001b[0;32m      6\u001b[0m driver\u001b[38;5;241m.\u001b[39mfind_elements(By\u001b[38;5;241m.\u001b[39mCSS_SELECTOR, \u001b[38;5;124m\"\u001b[39m\u001b[38;5;124mdiv.prod_info > p.prod_name > a\u001b[39m\u001b[38;5;124m\"\u001b[39m)[\u001b[38;5;241m0\u001b[39m]\u001b[38;5;241m.\u001b[39mclick()\n\u001b[0;32m      7\u001b[0m time\u001b[38;5;241m.\u001b[39msleep(\u001b[38;5;241m1\u001b[39m)\n\u001b[1;32m----> 9\u001b[0m \u001b[38;5;28mprint\u001b[39m(driver\u001b[38;5;241m.\u001b[39mfind_element(By\u001b[38;5;241m.\u001b[39mCSS_SELECTOR, \u001b[38;5;124m\"\u001b[39m\u001b[38;5;124m#bookmark_cm_opinion_item > a\u001b[39m\u001b[38;5;124m\"\u001b[39m))\n",
      "File \u001b[1;32m~\\anaconda3\\Lib\\site-packages\\selenium\\webdriver\\remote\\webdriver.py:739\u001b[0m, in \u001b[0;36mWebDriver.find_element\u001b[1;34m(self, by, value)\u001b[0m\n\u001b[0;32m    736\u001b[0m     by \u001b[38;5;241m=\u001b[39m By\u001b[38;5;241m.\u001b[39mCSS_SELECTOR\n\u001b[0;32m    737\u001b[0m     value \u001b[38;5;241m=\u001b[39m \u001b[38;5;124mf\u001b[39m\u001b[38;5;124m'\u001b[39m\u001b[38;5;124m[name=\u001b[39m\u001b[38;5;124m\"\u001b[39m\u001b[38;5;132;01m{\u001b[39;00mvalue\u001b[38;5;132;01m}\u001b[39;00m\u001b[38;5;124m\"\u001b[39m\u001b[38;5;124m]\u001b[39m\u001b[38;5;124m'\u001b[39m\n\u001b[1;32m--> 739\u001b[0m \u001b[38;5;28;01mreturn\u001b[39;00m \u001b[38;5;28mself\u001b[39m\u001b[38;5;241m.\u001b[39mexecute(Command\u001b[38;5;241m.\u001b[39mFIND_ELEMENT, {\u001b[38;5;124m\"\u001b[39m\u001b[38;5;124musing\u001b[39m\u001b[38;5;124m\"\u001b[39m: by, \u001b[38;5;124m\"\u001b[39m\u001b[38;5;124mvalue\u001b[39m\u001b[38;5;124m\"\u001b[39m: value})[\u001b[38;5;124m\"\u001b[39m\u001b[38;5;124mvalue\u001b[39m\u001b[38;5;124m\"\u001b[39m]\n",
      "File \u001b[1;32m~\\anaconda3\\Lib\\site-packages\\selenium\\webdriver\\remote\\webdriver.py:345\u001b[0m, in \u001b[0;36mWebDriver.execute\u001b[1;34m(self, driver_command, params)\u001b[0m\n\u001b[0;32m    343\u001b[0m response \u001b[38;5;241m=\u001b[39m \u001b[38;5;28mself\u001b[39m\u001b[38;5;241m.\u001b[39mcommand_executor\u001b[38;5;241m.\u001b[39mexecute(driver_command, params)\n\u001b[0;32m    344\u001b[0m \u001b[38;5;28;01mif\u001b[39;00m response:\n\u001b[1;32m--> 345\u001b[0m     \u001b[38;5;28mself\u001b[39m\u001b[38;5;241m.\u001b[39merror_handler\u001b[38;5;241m.\u001b[39mcheck_response(response)\n\u001b[0;32m    346\u001b[0m     response[\u001b[38;5;124m\"\u001b[39m\u001b[38;5;124mvalue\u001b[39m\u001b[38;5;124m\"\u001b[39m] \u001b[38;5;241m=\u001b[39m \u001b[38;5;28mself\u001b[39m\u001b[38;5;241m.\u001b[39m_unwrap_value(response\u001b[38;5;241m.\u001b[39mget(\u001b[38;5;124m\"\u001b[39m\u001b[38;5;124mvalue\u001b[39m\u001b[38;5;124m\"\u001b[39m, \u001b[38;5;28;01mNone\u001b[39;00m))\n\u001b[0;32m    347\u001b[0m     \u001b[38;5;28;01mreturn\u001b[39;00m response\n",
      "File \u001b[1;32m~\\anaconda3\\Lib\\site-packages\\selenium\\webdriver\\remote\\errorhandler.py:229\u001b[0m, in \u001b[0;36mErrorHandler.check_response\u001b[1;34m(self, response)\u001b[0m\n\u001b[0;32m    227\u001b[0m         alert_text \u001b[38;5;241m=\u001b[39m value[\u001b[38;5;124m\"\u001b[39m\u001b[38;5;124malert\u001b[39m\u001b[38;5;124m\"\u001b[39m]\u001b[38;5;241m.\u001b[39mget(\u001b[38;5;124m\"\u001b[39m\u001b[38;5;124mtext\u001b[39m\u001b[38;5;124m\"\u001b[39m)\n\u001b[0;32m    228\u001b[0m     \u001b[38;5;28;01mraise\u001b[39;00m exception_class(message, screen, stacktrace, alert_text)  \u001b[38;5;66;03m# type: ignore[call-arg]  # mypy is not smart enough here\u001b[39;00m\n\u001b[1;32m--> 229\u001b[0m \u001b[38;5;28;01mraise\u001b[39;00m exception_class(message, screen, stacktrace)\n",
      "\u001b[1;31mNoSuchElementException\u001b[0m: Message: no such element: Unable to locate element: {\"method\":\"css selector\",\"selector\":\"#bookmark_cm_opinion_item > a\"}\n  (Session info: chrome=116.0.5845.141); For documentation on this error, please visit: https://www.selenium.dev/documentation/webdriver/troubleshooting/errors#no-such-element-exception\nStacktrace:\n\tGetHandleVerifier [0x00007FF7A67352A2+57122]\n\t(No symbol) [0x00007FF7A66AEA92]\n\t(No symbol) [0x00007FF7A657E3AB]\n\t(No symbol) [0x00007FF7A65B7D3E]\n\t(No symbol) [0x00007FF7A65B7E2C]\n\t(No symbol) [0x00007FF7A65F0B67]\n\t(No symbol) [0x00007FF7A65D701F]\n\t(No symbol) [0x00007FF7A65EEB82]\n\t(No symbol) [0x00007FF7A65D6DB3]\n\t(No symbol) [0x00007FF7A65AD2B1]\n\t(No symbol) [0x00007FF7A65AE494]\n\tGetHandleVerifier [0x00007FF7A69DEF82+2849794]\n\tGetHandleVerifier [0x00007FF7A6A31D24+3189156]\n\tGetHandleVerifier [0x00007FF7A6A2ACAF+3160367]\n\tGetHandleVerifier [0x00007FF7A67C6D06+653702]\n\t(No symbol) [0x00007FF7A66BA208]\n\t(No symbol) [0x00007FF7A66B62C4]\n\t(No symbol) [0x00007FF7A66B63F6]\n\t(No symbol) [0x00007FF7A66A67A3]\n\tBaseThreadInitThunk [0x00007FFC2B8A7614+20]\n\tRtlUserThreadStart [0x00007FFC2BBE26B1+33]\n"
     ]
    }
   ],
   "source": [
    "driver=wb.Chrome()\n",
    "driver.get(\"https://prod.danawa.com/list/?cate=18242367&15main_18_02\")\n",
    "time.sleep(2)\n",
    "driver.find_element(By.CSS_SELECTOR, \"#productListArea > div.prod_list_opts > div.order_opt > ul > li:nth-child(6) > a\").click()\n",
    "time.sleep(1)\n",
    "driver.find_elements(By.CSS_SELECTOR, \"div.prod_info > p.prod_name > a\")[0].click()\n",
    "time.sleep(1)\n",
    "\n",
    "print(driver.find_element(By.CSS_SELECTOR, \"#bookmark_cm_opinion_item > a\"))"
   ]
  },
  {
   "cell_type": "code",
   "execution_count": 21,
   "id": "84d7c54f",
   "metadata": {},
   "outputs": [
    {
     "name": "stdout",
     "output_type": "stream",
     "text": [
      "아디다스 슈퍼스타 파운데이션 C77124\n"
     ]
    }
   ],
   "source": [
    "print(driver.find_elements(By.CSS_SELECTOR, \"div.prod_info > p.prod_name > a\")[0].text)"
   ]
  },
  {
   "cell_type": "code",
   "execution_count": 31,
   "id": "d577b8d7",
   "metadata": {},
   "outputs": [
    {
     "ename": "NoSuchElementException",
     "evalue": "Message: no such element: Unable to locate element: {\"method\":\"css selector\",\"selector\":\"#bookmark_cm_opinion_item\"}\n  (Session info: chrome=116.0.5845.141); For documentation on this error, please visit: https://www.selenium.dev/documentation/webdriver/troubleshooting/errors#no-such-element-exception\nStacktrace:\n\tGetHandleVerifier [0x00007FF7A67352A2+57122]\n\t(No symbol) [0x00007FF7A66AEA92]\n\t(No symbol) [0x00007FF7A657E3AB]\n\t(No symbol) [0x00007FF7A65B7D3E]\n\t(No symbol) [0x00007FF7A65B7E2C]\n\t(No symbol) [0x00007FF7A65F0B67]\n\t(No symbol) [0x00007FF7A65D701F]\n\t(No symbol) [0x00007FF7A65EEB82]\n\t(No symbol) [0x00007FF7A65D6DB3]\n\t(No symbol) [0x00007FF7A65AD2B1]\n\t(No symbol) [0x00007FF7A65AE494]\n\tGetHandleVerifier [0x00007FF7A69DEF82+2849794]\n\tGetHandleVerifier [0x00007FF7A6A31D24+3189156]\n\tGetHandleVerifier [0x00007FF7A6A2ACAF+3160367]\n\tGetHandleVerifier [0x00007FF7A67C6D06+653702]\n\t(No symbol) [0x00007FF7A66BA208]\n\t(No symbol) [0x00007FF7A66B62C4]\n\t(No symbol) [0x00007FF7A66B63F6]\n\t(No symbol) [0x00007FF7A66A67A3]\n\tBaseThreadInitThunk [0x00007FFC2B8A7614+20]\n\tRtlUserThreadStart [0x00007FFC2BBE26B1+33]\n",
     "output_type": "error",
     "traceback": [
      "\u001b[1;31m---------------------------------------------------------------------------\u001b[0m",
      "\u001b[1;31mNoSuchElementException\u001b[0m                    Traceback (most recent call last)",
      "Cell \u001b[1;32mIn[31], line 1\u001b[0m\n\u001b[1;32m----> 1\u001b[0m review_btn \u001b[38;5;241m=\u001b[39m driver\u001b[38;5;241m.\u001b[39mfind_element(By\u001b[38;5;241m.\u001b[39mCSS_SELECTOR,\u001b[38;5;124m\"\u001b[39m\u001b[38;5;124m#bookmark_cm_opinion_item\u001b[39m\u001b[38;5;124m\"\u001b[39m)\n\u001b[0;32m      2\u001b[0m review_btn\n",
      "File \u001b[1;32m~\\anaconda3\\Lib\\site-packages\\selenium\\webdriver\\remote\\webdriver.py:739\u001b[0m, in \u001b[0;36mWebDriver.find_element\u001b[1;34m(self, by, value)\u001b[0m\n\u001b[0;32m    736\u001b[0m     by \u001b[38;5;241m=\u001b[39m By\u001b[38;5;241m.\u001b[39mCSS_SELECTOR\n\u001b[0;32m    737\u001b[0m     value \u001b[38;5;241m=\u001b[39m \u001b[38;5;124mf\u001b[39m\u001b[38;5;124m'\u001b[39m\u001b[38;5;124m[name=\u001b[39m\u001b[38;5;124m\"\u001b[39m\u001b[38;5;132;01m{\u001b[39;00mvalue\u001b[38;5;132;01m}\u001b[39;00m\u001b[38;5;124m\"\u001b[39m\u001b[38;5;124m]\u001b[39m\u001b[38;5;124m'\u001b[39m\n\u001b[1;32m--> 739\u001b[0m \u001b[38;5;28;01mreturn\u001b[39;00m \u001b[38;5;28mself\u001b[39m\u001b[38;5;241m.\u001b[39mexecute(Command\u001b[38;5;241m.\u001b[39mFIND_ELEMENT, {\u001b[38;5;124m\"\u001b[39m\u001b[38;5;124musing\u001b[39m\u001b[38;5;124m\"\u001b[39m: by, \u001b[38;5;124m\"\u001b[39m\u001b[38;5;124mvalue\u001b[39m\u001b[38;5;124m\"\u001b[39m: value})[\u001b[38;5;124m\"\u001b[39m\u001b[38;5;124mvalue\u001b[39m\u001b[38;5;124m\"\u001b[39m]\n",
      "File \u001b[1;32m~\\anaconda3\\Lib\\site-packages\\selenium\\webdriver\\remote\\webdriver.py:345\u001b[0m, in \u001b[0;36mWebDriver.execute\u001b[1;34m(self, driver_command, params)\u001b[0m\n\u001b[0;32m    343\u001b[0m response \u001b[38;5;241m=\u001b[39m \u001b[38;5;28mself\u001b[39m\u001b[38;5;241m.\u001b[39mcommand_executor\u001b[38;5;241m.\u001b[39mexecute(driver_command, params)\n\u001b[0;32m    344\u001b[0m \u001b[38;5;28;01mif\u001b[39;00m response:\n\u001b[1;32m--> 345\u001b[0m     \u001b[38;5;28mself\u001b[39m\u001b[38;5;241m.\u001b[39merror_handler\u001b[38;5;241m.\u001b[39mcheck_response(response)\n\u001b[0;32m    346\u001b[0m     response[\u001b[38;5;124m\"\u001b[39m\u001b[38;5;124mvalue\u001b[39m\u001b[38;5;124m\"\u001b[39m] \u001b[38;5;241m=\u001b[39m \u001b[38;5;28mself\u001b[39m\u001b[38;5;241m.\u001b[39m_unwrap_value(response\u001b[38;5;241m.\u001b[39mget(\u001b[38;5;124m\"\u001b[39m\u001b[38;5;124mvalue\u001b[39m\u001b[38;5;124m\"\u001b[39m, \u001b[38;5;28;01mNone\u001b[39;00m))\n\u001b[0;32m    347\u001b[0m     \u001b[38;5;28;01mreturn\u001b[39;00m response\n",
      "File \u001b[1;32m~\\anaconda3\\Lib\\site-packages\\selenium\\webdriver\\remote\\errorhandler.py:229\u001b[0m, in \u001b[0;36mErrorHandler.check_response\u001b[1;34m(self, response)\u001b[0m\n\u001b[0;32m    227\u001b[0m         alert_text \u001b[38;5;241m=\u001b[39m value[\u001b[38;5;124m\"\u001b[39m\u001b[38;5;124malert\u001b[39m\u001b[38;5;124m\"\u001b[39m]\u001b[38;5;241m.\u001b[39mget(\u001b[38;5;124m\"\u001b[39m\u001b[38;5;124mtext\u001b[39m\u001b[38;5;124m\"\u001b[39m)\n\u001b[0;32m    228\u001b[0m     \u001b[38;5;28;01mraise\u001b[39;00m exception_class(message, screen, stacktrace, alert_text)  \u001b[38;5;66;03m# type: ignore[call-arg]  # mypy is not smart enough here\u001b[39;00m\n\u001b[1;32m--> 229\u001b[0m \u001b[38;5;28;01mraise\u001b[39;00m exception_class(message, screen, stacktrace)\n",
      "\u001b[1;31mNoSuchElementException\u001b[0m: Message: no such element: Unable to locate element: {\"method\":\"css selector\",\"selector\":\"#bookmark_cm_opinion_item\"}\n  (Session info: chrome=116.0.5845.141); For documentation on this error, please visit: https://www.selenium.dev/documentation/webdriver/troubleshooting/errors#no-such-element-exception\nStacktrace:\n\tGetHandleVerifier [0x00007FF7A67352A2+57122]\n\t(No symbol) [0x00007FF7A66AEA92]\n\t(No symbol) [0x00007FF7A657E3AB]\n\t(No symbol) [0x00007FF7A65B7D3E]\n\t(No symbol) [0x00007FF7A65B7E2C]\n\t(No symbol) [0x00007FF7A65F0B67]\n\t(No symbol) [0x00007FF7A65D701F]\n\t(No symbol) [0x00007FF7A65EEB82]\n\t(No symbol) [0x00007FF7A65D6DB3]\n\t(No symbol) [0x00007FF7A65AD2B1]\n\t(No symbol) [0x00007FF7A65AE494]\n\tGetHandleVerifier [0x00007FF7A69DEF82+2849794]\n\tGetHandleVerifier [0x00007FF7A6A31D24+3189156]\n\tGetHandleVerifier [0x00007FF7A6A2ACAF+3160367]\n\tGetHandleVerifier [0x00007FF7A67C6D06+653702]\n\t(No symbol) [0x00007FF7A66BA208]\n\t(No symbol) [0x00007FF7A66B62C4]\n\t(No symbol) [0x00007FF7A66B63F6]\n\t(No symbol) [0x00007FF7A66A67A3]\n\tBaseThreadInitThunk [0x00007FFC2B8A7614+20]\n\tRtlUserThreadStart [0x00007FFC2BBE26B1+33]\n"
     ]
    }
   ],
   "source": [
    "review_btn = driver.find_element(By.CSS_SELECTOR,\"#bookmark_cm_opinion_item\")\n",
    "review_btn"
   ]
  },
  {
   "cell_type": "code",
   "execution_count": null,
   "id": "eeb394d7",
   "metadata": {},
   "outputs": [],
   "source": []
  }
 ],
 "metadata": {
  "kernelspec": {
   "display_name": "Python 3 (ipykernel)",
   "language": "python",
   "name": "python3"
  },
  "language_info": {
   "codemirror_mode": {
    "name": "ipython",
    "version": 3
   },
   "file_extension": ".py",
   "mimetype": "text/x-python",
   "name": "python",
   "nbconvert_exporter": "python",
   "pygments_lexer": "ipython3",
   "version": "3.11.3"
  }
 },
 "nbformat": 4,
 "nbformat_minor": 5
}
